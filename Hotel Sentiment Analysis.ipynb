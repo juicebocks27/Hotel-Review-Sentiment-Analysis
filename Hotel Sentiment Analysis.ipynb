{
 "cells": [
  {
   "cell_type": "markdown",
   "id": "ea651f7c",
   "metadata": {},
   "source": [
    "# HOTEL REVIEW - SENTIMENT ANALYSIS\n",
    "\n",
    "Sentiment Analysis is the process of computationally identifying and categorizing opinions expressed in a piece of text, with the use of natural language processing, text analysis, computational linguistics, and biometrics to systematically identify, extract, quantify, and study affective states and subjective information. For this project, we use sentiment analysis to find out customer review and rating (1 to 5 stars). \n",
    "\n",
    "Data source : [click here](https://www.kaggle.com/datasets/thedevastator/tripadvisor-hotel-reviews)"
   ]
  },
  {
   "cell_type": "markdown",
   "id": "3e71779f",
   "metadata": {},
   "source": [
    "## IMPORT LIBRARY"
   ]
  },
  {
   "cell_type": "code",
   "execution_count": 1,
   "id": "4f0a9513",
   "metadata": {
    "scrolled": true
   },
   "outputs": [
    {
     "name": "stdout",
     "output_type": "stream",
     "text": [
      "Requirement already satisfied: wordcloud in c:\\users\\hp\\appdata\\local\\packages\\pythonsoftwarefoundation.python.3.11_qbz5n2kfra8p0\\localcache\\local-packages\\python311\\site-packages (1.9.2)\n",
      "Requirement already satisfied: numpy>=1.6.1 in c:\\users\\hp\\appdata\\local\\packages\\pythonsoftwarefoundation.python.3.11_qbz5n2kfra8p0\\localcache\\local-packages\\python311\\site-packages (from wordcloud) (1.23.5)\n",
      "Requirement already satisfied: pillow in c:\\users\\hp\\appdata\\local\\packages\\pythonsoftwarefoundation.python.3.11_qbz5n2kfra8p0\\localcache\\local-packages\\python311\\site-packages (from wordcloud) (9.5.0)\n",
      "Requirement already satisfied: matplotlib in c:\\users\\hp\\appdata\\local\\packages\\pythonsoftwarefoundation.python.3.11_qbz5n2kfra8p0\\localcache\\local-packages\\python311\\site-packages (from wordcloud) (3.7.1)\n",
      "Requirement already satisfied: contourpy>=1.0.1 in c:\\users\\hp\\appdata\\local\\packages\\pythonsoftwarefoundation.python.3.11_qbz5n2kfra8p0\\localcache\\local-packages\\python311\\site-packages (from matplotlib->wordcloud) (1.0.7)\n",
      "Requirement already satisfied: cycler>=0.10 in c:\\users\\hp\\appdata\\local\\packages\\pythonsoftwarefoundation.python.3.11_qbz5n2kfra8p0\\localcache\\local-packages\\python311\\site-packages (from matplotlib->wordcloud) (0.10.0)\n",
      "Requirement already satisfied: fonttools>=4.22.0 in c:\\users\\hp\\appdata\\local\\packages\\pythonsoftwarefoundation.python.3.11_qbz5n2kfra8p0\\localcache\\local-packages\\python311\\site-packages (from matplotlib->wordcloud) (4.39.4)\n",
      "Requirement already satisfied: kiwisolver>=1.0.1 in c:\\users\\hp\\appdata\\local\\packages\\pythonsoftwarefoundation.python.3.11_qbz5n2kfra8p0\\localcache\\local-packages\\python311\\site-packages (from matplotlib->wordcloud) (1.4.4)\n",
      "Requirement already satisfied: packaging>=20.0 in c:\\users\\hp\\appdata\\local\\packages\\pythonsoftwarefoundation.python.3.11_qbz5n2kfra8p0\\localcache\\local-packages\\python311\\site-packages (from matplotlib->wordcloud) (23.1)\n",
      "Requirement already satisfied: pyparsing>=2.3.1 in c:\\users\\hp\\appdata\\local\\packages\\pythonsoftwarefoundation.python.3.11_qbz5n2kfra8p0\\localcache\\local-packages\\python311\\site-packages (from matplotlib->wordcloud) (2.4.7)\n",
      "Requirement already satisfied: python-dateutil>=2.7 in c:\\users\\hp\\appdata\\local\\packages\\pythonsoftwarefoundation.python.3.11_qbz5n2kfra8p0\\localcache\\local-packages\\python311\\site-packages (from matplotlib->wordcloud) (2.8.2)\n",
      "Requirement already satisfied: six in c:\\users\\hp\\appdata\\local\\packages\\pythonsoftwarefoundation.python.3.11_qbz5n2kfra8p0\\localcache\\local-packages\\python311\\site-packages (from cycler>=0.10->matplotlib->wordcloud) (1.16.0)\n"
     ]
    }
   ],
   "source": [
    "!pip install wordcloud"
   ]
  },
  {
   "cell_type": "code",
   "execution_count": 2,
   "id": "57f24f01",
   "metadata": {
    "scrolled": true
   },
   "outputs": [
    {
     "name": "stdout",
     "output_type": "stream",
     "text": [
      "Requirement already satisfied: nltk in c:\\users\\hp\\appdata\\local\\packages\\pythonsoftwarefoundation.python.3.11_qbz5n2kfra8p0\\localcache\\local-packages\\python311\\site-packages (3.8.1)\n",
      "Requirement already satisfied: click in c:\\users\\hp\\appdata\\local\\packages\\pythonsoftwarefoundation.python.3.11_qbz5n2kfra8p0\\localcache\\local-packages\\python311\\site-packages (from nltk) (8.1.3)\n",
      "Requirement already satisfied: joblib in c:\\users\\hp\\appdata\\local\\packages\\pythonsoftwarefoundation.python.3.11_qbz5n2kfra8p0\\localcache\\local-packages\\python311\\site-packages (from nltk) (1.2.0)\n",
      "Requirement already satisfied: regex>=2021.8.3 in c:\\users\\hp\\appdata\\local\\packages\\pythonsoftwarefoundation.python.3.11_qbz5n2kfra8p0\\localcache\\local-packages\\python311\\site-packages (from nltk) (2023.5.5)\n",
      "Requirement already satisfied: tqdm in c:\\users\\hp\\appdata\\local\\packages\\pythonsoftwarefoundation.python.3.11_qbz5n2kfra8p0\\localcache\\local-packages\\python311\\site-packages (from nltk) (4.65.0)\n",
      "Requirement already satisfied: colorama in c:\\users\\hp\\appdata\\local\\packages\\pythonsoftwarefoundation.python.3.11_qbz5n2kfra8p0\\localcache\\local-packages\\python311\\site-packages (from click->nltk) (0.4.6)\n"
     ]
    }
   ],
   "source": [
    "!pip install nltk"
   ]
  },
  {
   "cell_type": "code",
   "execution_count": 3,
   "id": "fd9ecc82",
   "metadata": {},
   "outputs": [],
   "source": [
    "import numpy as np\n",
    "import pandas as pd\n",
    "import matplotlib.pyplot as plt\n",
    "import matplotlib as mpl\n",
    "import seaborn as sns\n",
    "import matplotlib.colors as mcolors\n",
    "\n",
    "from matplotlib.cm import ScalarMappable\n",
    "from matplotlib.lines import Line2D\n",
    "from mpl_toolkits.axes_grid1.inset_locator import inset_axes\n",
    "from textwrap import wrap\n",
    "from wordcloud import WordCloud\n",
    "from sklearn.feature_extraction.text import TfidfVectorizer\n",
    "from sklearn.metrics import roc_curve, auc, roc_auc_score\n",
    "\n",
    "import nltk\n",
    "from nltk import pos_tag\n",
    "from nltk.stem import WordNetLemmatizer\n",
    "from nltk.stem.porter import PorterStemmer\n",
    "from nltk.tokenize import word_tokenize\n",
    "from nltk.tokenize import WhitespaceTokenizer\n",
    "from nltk.corpus import stopwords\n",
    "from nltk.corpus import wordnet\n",
    "\n",
    "from sklearn import preprocessing\n",
    "from sklearn.impute import SimpleImputer\n",
    "from sklearn.ensemble import RandomForestClassifier\n",
    "from sklearn.linear_model import LogisticRegression\n",
    "from sklearn.model_selection import train_test_split\n",
    "from sklearn.metrics import accuracy_score, recall_score\n",
    "from sklearn.metrics import ConfusionMatrixDisplay\n",
    "\n",
    "\n",
    "from sklearn.metrics import classification_report\n",
    "\n",
    "\n",
    "from nltk.sentiment.vader import SentimentIntensityAnalyzer\n",
    "\n",
    "import string\n",
    "\n",
    "import gensim\n",
    "from gensim.test.utils import common_texts\n",
    "from gensim.models.doc2vec import Doc2Vec, TaggedDocument\n",
    "\n",
    "import re\n",
    "\n",
    "from PIL import Image"
   ]
  },
  {
   "cell_type": "code",
   "execution_count": 4,
   "id": "aceda11c",
   "metadata": {
    "scrolled": true
   },
   "outputs": [
    {
     "name": "stderr",
     "output_type": "stream",
     "text": [
      "[nltk_data] Downloading package stopwords to\n",
      "[nltk_data]     C:\\Users\\hp\\AppData\\Roaming\\nltk_data...\n",
      "[nltk_data]   Package stopwords is already up-to-date!\n"
     ]
    },
    {
     "data": {
      "text/plain": [
       "True"
      ]
     },
     "execution_count": 4,
     "metadata": {},
     "output_type": "execute_result"
    }
   ],
   "source": [
    "nltk.download('stopwords')"
   ]
  },
  {
   "cell_type": "code",
   "execution_count": 5,
   "id": "71c96616",
   "metadata": {
    "scrolled": true
   },
   "outputs": [
    {
     "name": "stderr",
     "output_type": "stream",
     "text": [
      "[nltk_data] Downloading package averaged_perceptron_tagger to\n",
      "[nltk_data]     C:\\Users\\hp\\AppData\\Roaming\\nltk_data...\n",
      "[nltk_data]   Unzipping taggers\\averaged_perceptron_tagger.zip.\n"
     ]
    },
    {
     "data": {
      "text/plain": [
       "True"
      ]
     },
     "execution_count": 5,
     "metadata": {},
     "output_type": "execute_result"
    }
   ],
   "source": [
    "nltk.download('averaged_perceptron_tagger')"
   ]
  },
  {
   "cell_type": "code",
   "execution_count": 6,
   "id": "31cddc61",
   "metadata": {
    "scrolled": true
   },
   "outputs": [
    {
     "name": "stderr",
     "output_type": "stream",
     "text": [
      "[nltk_data] Downloading package wordnet to\n",
      "[nltk_data]     C:\\Users\\hp\\AppData\\Roaming\\nltk_data...\n"
     ]
    },
    {
     "data": {
      "text/plain": [
       "True"
      ]
     },
     "execution_count": 6,
     "metadata": {},
     "output_type": "execute_result"
    }
   ],
   "source": [
    "nltk.download('wordnet')"
   ]
  },
  {
   "cell_type": "code",
   "execution_count": 7,
   "id": "76700212",
   "metadata": {},
   "outputs": [
    {
     "name": "stderr",
     "output_type": "stream",
     "text": [
      "[nltk_data] Downloading package omw-1.4 to\n",
      "[nltk_data]     C:\\Users\\hp\\AppData\\Roaming\\nltk_data...\n",
      "[nltk_data]   Package omw-1.4 is already up-to-date!\n"
     ]
    },
    {
     "data": {
      "text/plain": [
       "True"
      ]
     },
     "execution_count": 7,
     "metadata": {},
     "output_type": "execute_result"
    }
   ],
   "source": [
    "nltk.download('omw-1.4')"
   ]
  },
  {
   "cell_type": "code",
   "execution_count": 8,
   "id": "0c0238cb",
   "metadata": {},
   "outputs": [
    {
     "name": "stderr",
     "output_type": "stream",
     "text": [
      "[nltk_data] Downloading package vader_lexicon to\n",
      "[nltk_data]     C:\\Users\\hp\\AppData\\Roaming\\nltk_data...\n"
     ]
    },
    {
     "data": {
      "text/plain": [
       "True"
      ]
     },
     "execution_count": 8,
     "metadata": {},
     "output_type": "execute_result"
    }
   ],
   "source": [
    "nltk.download('vader_lexicon')"
   ]
  },
  {
   "cell_type": "markdown",
   "id": "16a0bb40",
   "metadata": {},
   "source": [
    "## LOAD DATASET"
   ]
  },
  {
   "cell_type": "code",
   "execution_count": 9,
   "id": "d5658f31",
   "metadata": {},
   "outputs": [],
   "source": [
    "df = pd.read_csv('TripAdvisor.csv', encoding = 'ISO-8859-1')"
   ]
  },
  {
   "cell_type": "code",
   "execution_count": 10,
   "id": "651cdc2d",
   "metadata": {
    "scrolled": true
   },
   "outputs": [
    {
     "data": {
      "text/html": [
       "<div>\n",
       "<style scoped>\n",
       "    .dataframe tbody tr th:only-of-type {\n",
       "        vertical-align: middle;\n",
       "    }\n",
       "\n",
       "    .dataframe tbody tr th {\n",
       "        vertical-align: top;\n",
       "    }\n",
       "\n",
       "    .dataframe thead th {\n",
       "        text-align: right;\n",
       "    }\n",
       "</style>\n",
       "<table border=\"1\" class=\"dataframe\">\n",
       "  <thead>\n",
       "    <tr style=\"text-align: right;\">\n",
       "      <th></th>\n",
       "      <th>S.No.</th>\n",
       "      <th>Review</th>\n",
       "      <th>Rating</th>\n",
       "    </tr>\n",
       "  </thead>\n",
       "  <tbody>\n",
       "    <tr>\n",
       "      <th>0</th>\n",
       "      <td>1</td>\n",
       "      <td>nice hotel expensive parking got good deal sta...</td>\n",
       "      <td>4</td>\n",
       "    </tr>\n",
       "    <tr>\n",
       "      <th>1</th>\n",
       "      <td>2</td>\n",
       "      <td>ok nothing special charge diamond member hilto...</td>\n",
       "      <td>2</td>\n",
       "    </tr>\n",
       "    <tr>\n",
       "      <th>2</th>\n",
       "      <td>3</td>\n",
       "      <td>nice rooms not 4* experience hotel monaco seat...</td>\n",
       "      <td>3</td>\n",
       "    </tr>\n",
       "    <tr>\n",
       "      <th>3</th>\n",
       "      <td>4</td>\n",
       "      <td>unique \\tgreat stay \\twonderful time hotel mon...</td>\n",
       "      <td>5</td>\n",
       "    </tr>\n",
       "    <tr>\n",
       "      <th>4</th>\n",
       "      <td>5</td>\n",
       "      <td>great stay great stay \\twent seahawk game awes...</td>\n",
       "      <td>5</td>\n",
       "    </tr>\n",
       "  </tbody>\n",
       "</table>\n",
       "</div>"
      ],
      "text/plain": [
       "   S.No.                                             Review  Rating\n",
       "0      1  nice hotel expensive parking got good deal sta...       4\n",
       "1      2  ok nothing special charge diamond member hilto...       2\n",
       "2      3  nice rooms not 4* experience hotel monaco seat...       3\n",
       "3      4  unique \\tgreat stay \\twonderful time hotel mon...       5\n",
       "4      5  great stay great stay \\twent seahawk game awes...       5"
      ]
     },
     "execution_count": 10,
     "metadata": {},
     "output_type": "execute_result"
    }
   ],
   "source": [
    "df.head()"
   ]
  },
  {
   "cell_type": "code",
   "execution_count": 11,
   "id": "393aea06",
   "metadata": {},
   "outputs": [
    {
     "name": "stdout",
     "output_type": "stream",
     "text": [
      "<class 'pandas.core.frame.DataFrame'>\n",
      "RangeIndex: 20491 entries, 0 to 20490\n",
      "Data columns (total 3 columns):\n",
      " #   Column  Non-Null Count  Dtype \n",
      "---  ------  --------------  ----- \n",
      " 0   S.No.   20491 non-null  int64 \n",
      " 1   Review  20491 non-null  object\n",
      " 2   Rating  20491 non-null  int64 \n",
      "dtypes: int64(2), object(1)\n",
      "memory usage: 480.4+ KB\n"
     ]
    }
   ],
   "source": [
    "df.info()"
   ]
  },
  {
   "cell_type": "markdown",
   "id": "8bce3c42",
   "metadata": {},
   "source": [
    "## DATA PREPOCESSING"
   ]
  },
  {
   "cell_type": "code",
   "execution_count": 12,
   "id": "c82feda6",
   "metadata": {},
   "outputs": [],
   "source": [
    "# Sample data\n",
    "\n",
    "df = df.sample(frac = 0.1, replace = False, random_state=42)"
   ]
  },
  {
   "cell_type": "markdown",
   "id": "632a8894",
   "metadata": {},
   "source": [
    "Proceed the modeling and analysis with sample data to speed up computation"
   ]
  },
  {
   "cell_type": "code",
   "execution_count": 13,
   "id": "4c3cae24",
   "metadata": {},
   "outputs": [],
   "source": [
    "# drop unused column\n",
    "\n",
    "df = df.drop(['S.No.'], axis = 1)"
   ]
  },
  {
   "cell_type": "code",
   "execution_count": 14,
   "id": "b43e73d3",
   "metadata": {},
   "outputs": [
    {
     "data": {
      "text/plain": [
       "Review    0\n",
       "Rating    0\n",
       "dtype: int64"
      ]
     },
     "execution_count": 14,
     "metadata": {},
     "output_type": "execute_result"
    }
   ],
   "source": [
    "# Count null values\n",
    "\n",
    "df.isna().sum()"
   ]
  },
  {
   "cell_type": "code",
   "execution_count": 15,
   "id": "a4275adf",
   "metadata": {},
   "outputs": [
    {
     "data": {
      "text/plain": [
       "0"
      ]
     },
     "execution_count": 15,
     "metadata": {},
     "output_type": "execute_result"
    }
   ],
   "source": [
    "# Check if there any duplicated values\n",
    "\n",
    "df.duplicated().sum()"
   ]
  },
  {
   "cell_type": "markdown",
   "id": "97fab505",
   "metadata": {},
   "source": [
    "We need to clean up the review column. \n",
    "\n",
    "First we create a function to help identify type of the words (adjective, verb, noun, adverb). Then we create a function to :\n",
    "\n",
    "- remove '\\', 'empty' review and words with only 1 letter\n",
    "- lower all text\n",
    "- Tokenize and split text to words\n",
    "- Remove numbers and stop words ( 'a', 'an', 'the', 'of', 'in', etc.), to help improve accuracy to give more focus to the important information\n",
    "- Part-of-Speech (POS) tagging: Categorizing words in a text (corpus) in correspondence with a particular part of speech, depending on the definition of the word and its context indicates how the word functions in meaning as well as grammatically within the sentence\n",
    "- lemmatize the text: transform every word into their root form (caring -> care)"
   ]
  },
  {
   "cell_type": "code",
   "execution_count": 16,
   "id": "86a9e862",
   "metadata": {},
   "outputs": [],
   "source": [
    "# upload stopwords txt\n",
    "\n",
    "gist_file = open(\"gist_stopwords.txt\", \"r\")\n",
    "content = gist_file.read()\n",
    "stopwords = content.split(\",\")\n",
    "gist_file.close()"
   ]
  },
  {
   "cell_type": "code",
   "execution_count": 17,
   "id": "da6db05b",
   "metadata": {},
   "outputs": [],
   "source": [
    "# return the wordnet object value\n",
    "\n",
    "def get_wordnet_pos(pos_tag):\n",
    "    if pos_tag.startswith('J'):\n",
    "        return wordnet.ADJ\n",
    "    elif pos_tag.startswith('V'):\n",
    "        return wordnet.VERB\n",
    "    elif pos_tag.startswith('N'):\n",
    "        return wordnet.NOUN\n",
    "    elif pos_tag.startswith('R'):\n",
    "        return wordnet.ADV\n",
    "    else:\n",
    "        return wordnet.NOUN\n",
    "\n",
    "def clean_text(text):\n",
    "    # remove \\\n",
    "    text = text.replace('\\t', '')\n",
    "    # lower text\n",
    "    text = text.lower()\n",
    "    # tokenize text and remove puncutation\n",
    "    text = [word.strip(string.punctuation) for word in text.split(\" \")]\n",
    "    # remove words that contain numbers\n",
    "    text = [word for word in text if not any(c.isdigit() for c in word)]\n",
    "    # remove stop words\n",
    "    text = [x for x in text if x not in stopwords]\n",
    "    # remove empty tokens\n",
    "    text = [t for t in text if len(t) > 0]\n",
    "    # pos tag text\n",
    "    pos_tags = pos_tag(text)\n",
    "    # lemmatize text\n",
    "    text = [WordNetLemmatizer().lemmatize(t[0], get_wordnet_pos(t[1])) for t in pos_tags]\n",
    "    # remove words with only one letter\n",
    "    text = [t for t in text if len(t) > 1]\n",
    "    # join all\n",
    "    text = ' '.join(text)\n",
    "    return(text)\n"
   ]
  },
  {
   "cell_type": "code",
   "execution_count": 18,
   "id": "a9b1f296",
   "metadata": {
    "scrolled": false
   },
   "outputs": [],
   "source": [
    "# Apply clean_text function\n",
    "\n",
    "df['Clean_Review'] = df['Review'].apply(lambda x: clean_text(x))"
   ]
  },
  {
   "cell_type": "code",
   "execution_count": 19,
   "id": "547ce8b9",
   "metadata": {},
   "outputs": [
    {
     "data": {
      "text/html": [
       "<div>\n",
       "<style scoped>\n",
       "    .dataframe tbody tr th:only-of-type {\n",
       "        vertical-align: middle;\n",
       "    }\n",
       "\n",
       "    .dataframe tbody tr th {\n",
       "        vertical-align: top;\n",
       "    }\n",
       "\n",
       "    .dataframe thead th {\n",
       "        text-align: right;\n",
       "    }\n",
       "</style>\n",
       "<table border=\"1\" class=\"dataframe\">\n",
       "  <thead>\n",
       "    <tr style=\"text-align: right;\">\n",
       "      <th></th>\n",
       "      <th>Review</th>\n",
       "      <th>Rating</th>\n",
       "      <th>Clean_Review</th>\n",
       "    </tr>\n",
       "  </thead>\n",
       "  <tbody>\n",
       "    <tr>\n",
       "      <th>10726</th>\n",
       "      <td>not recommend hotel did reviewers actually sta...</td>\n",
       "      <td>1</td>\n",
       "      <td>recommend hotel reviewer stay hotel good thing...</td>\n",
       "    </tr>\n",
       "    <tr>\n",
       "      <th>14919</th>\n",
       "      <td>barcelona rocks \\tstayed hotel jazz girlfriend...</td>\n",
       "      <td>4</td>\n",
       "      <td>barcelona rock stay hotel jazz girlfriend nigh...</td>\n",
       "    </tr>\n",
       "    <tr>\n",
       "      <th>19098</th>\n",
       "      <td>ok hotel good location stayed night way beijin...</td>\n",
       "      <td>3</td>\n",
       "      <td>hotel good location stay night beijing rawa is...</td>\n",
       "    </tr>\n",
       "    <tr>\n",
       "      <th>2450</th>\n",
       "      <td>great service nice pool ok beach lovely ground...</td>\n",
       "      <td>4</td>\n",
       "      <td>great service nice pool beach lovely ground sm...</td>\n",
       "    </tr>\n",
       "    <tr>\n",
       "      <th>960</th>\n",
       "      <td>surprising treat spent weekend july 15/16 2006...</td>\n",
       "      <td>5</td>\n",
       "      <td>surprising treat spend weekend july cartwright...</td>\n",
       "    </tr>\n",
       "  </tbody>\n",
       "</table>\n",
       "</div>"
      ],
      "text/plain": [
       "                                                  Review  Rating  \\\n",
       "10726  not recommend hotel did reviewers actually sta...       1   \n",
       "14919  barcelona rocks \\tstayed hotel jazz girlfriend...       4   \n",
       "19098  ok hotel good location stayed night way beijin...       3   \n",
       "2450   great service nice pool ok beach lovely ground...       4   \n",
       "960    surprising treat spent weekend july 15/16 2006...       5   \n",
       "\n",
       "                                            Clean_Review  \n",
       "10726  recommend hotel reviewer stay hotel good thing...  \n",
       "14919  barcelona rock stay hotel jazz girlfriend nigh...  \n",
       "19098  hotel good location stay night beijing rawa is...  \n",
       "2450   great service nice pool beach lovely ground sm...  \n",
       "960    surprising treat spend weekend july cartwright...  "
      ]
     },
     "execution_count": 19,
     "metadata": {},
     "output_type": "execute_result"
    }
   ],
   "source": [
    "df.head()"
   ]
  },
  {
   "cell_type": "code",
   "execution_count": 20,
   "id": "02f1c2e1",
   "metadata": {},
   "outputs": [],
   "source": [
    "# add sentiment analysis\n",
    "\n",
    "sid = SentimentIntensityAnalyzer()\n",
    "\n",
    "df['Sentiments'] = df['Review'].apply(lambda x: sid.polarity_scores(x))\n",
    "df = pd.concat([df.drop(['Sentiments'], axis=1), df['Sentiments'].apply(pd.Series)], axis=1)"
   ]
  },
  {
   "cell_type": "code",
   "execution_count": 21,
   "id": "1b495095",
   "metadata": {},
   "outputs": [
    {
     "data": {
      "text/html": [
       "<div>\n",
       "<style scoped>\n",
       "    .dataframe tbody tr th:only-of-type {\n",
       "        vertical-align: middle;\n",
       "    }\n",
       "\n",
       "    .dataframe tbody tr th {\n",
       "        vertical-align: top;\n",
       "    }\n",
       "\n",
       "    .dataframe thead th {\n",
       "        text-align: right;\n",
       "    }\n",
       "</style>\n",
       "<table border=\"1\" class=\"dataframe\">\n",
       "  <thead>\n",
       "    <tr style=\"text-align: right;\">\n",
       "      <th></th>\n",
       "      <th>Review</th>\n",
       "      <th>Rating</th>\n",
       "      <th>Clean_Review</th>\n",
       "      <th>neg</th>\n",
       "      <th>neu</th>\n",
       "      <th>pos</th>\n",
       "      <th>compound</th>\n",
       "    </tr>\n",
       "  </thead>\n",
       "  <tbody>\n",
       "    <tr>\n",
       "      <th>10726</th>\n",
       "      <td>not recommend hotel did reviewers actually sta...</td>\n",
       "      <td>1</td>\n",
       "      <td>recommend hotel reviewer stay hotel good thing...</td>\n",
       "      <td>0.267</td>\n",
       "      <td>0.637</td>\n",
       "      <td>0.096</td>\n",
       "      <td>-0.8384</td>\n",
       "    </tr>\n",
       "    <tr>\n",
       "      <th>14919</th>\n",
       "      <td>barcelona rocks \\tstayed hotel jazz girlfriend...</td>\n",
       "      <td>4</td>\n",
       "      <td>barcelona rock stay hotel jazz girlfriend nigh...</td>\n",
       "      <td>0.138</td>\n",
       "      <td>0.685</td>\n",
       "      <td>0.177</td>\n",
       "      <td>0.9497</td>\n",
       "    </tr>\n",
       "    <tr>\n",
       "      <th>19098</th>\n",
       "      <td>ok hotel good location stayed night way beijin...</td>\n",
       "      <td>3</td>\n",
       "      <td>hotel good location stay night beijing rawa is...</td>\n",
       "      <td>0.000</td>\n",
       "      <td>0.572</td>\n",
       "      <td>0.428</td>\n",
       "      <td>0.9217</td>\n",
       "    </tr>\n",
       "    <tr>\n",
       "      <th>2450</th>\n",
       "      <td>great service nice pool ok beach lovely ground...</td>\n",
       "      <td>4</td>\n",
       "      <td>great service nice pool beach lovely ground sm...</td>\n",
       "      <td>0.070</td>\n",
       "      <td>0.644</td>\n",
       "      <td>0.286</td>\n",
       "      <td>0.9978</td>\n",
       "    </tr>\n",
       "    <tr>\n",
       "      <th>960</th>\n",
       "      <td>surprising treat spent weekend july 15/16 2006...</td>\n",
       "      <td>5</td>\n",
       "      <td>surprising treat spend weekend july cartwright...</td>\n",
       "      <td>0.059</td>\n",
       "      <td>0.639</td>\n",
       "      <td>0.302</td>\n",
       "      <td>0.9801</td>\n",
       "    </tr>\n",
       "  </tbody>\n",
       "</table>\n",
       "</div>"
      ],
      "text/plain": [
       "                                                  Review  Rating  \\\n",
       "10726  not recommend hotel did reviewers actually sta...       1   \n",
       "14919  barcelona rocks \\tstayed hotel jazz girlfriend...       4   \n",
       "19098  ok hotel good location stayed night way beijin...       3   \n",
       "2450   great service nice pool ok beach lovely ground...       4   \n",
       "960    surprising treat spent weekend july 15/16 2006...       5   \n",
       "\n",
       "                                            Clean_Review    neg    neu    pos  \\\n",
       "10726  recommend hotel reviewer stay hotel good thing...  0.267  0.637  0.096   \n",
       "14919  barcelona rock stay hotel jazz girlfriend nigh...  0.138  0.685  0.177   \n",
       "19098  hotel good location stay night beijing rawa is...  0.000  0.572  0.428   \n",
       "2450   great service nice pool beach lovely ground sm...  0.070  0.644  0.286   \n",
       "960    surprising treat spend weekend july cartwright...  0.059  0.639  0.302   \n",
       "\n",
       "       compound  \n",
       "10726   -0.8384  \n",
       "14919    0.9497  \n",
       "19098    0.9217  \n",
       "2450     0.9978  \n",
       "960      0.9801  "
      ]
     },
     "execution_count": 21,
     "metadata": {},
     "output_type": "execute_result"
    }
   ],
   "source": [
    "df.head()"
   ]
  },
  {
   "cell_type": "code",
   "execution_count": 22,
   "id": "6417a6f4",
   "metadata": {},
   "outputs": [],
   "source": [
    "# add total number of characters column\n",
    "\n",
    "df['Chars'] = df['Review'].apply(lambda x: len(x))\n",
    "\n",
    "# add total number of words column\n",
    "\n",
    "df['Words'] = df['Review'].apply(lambda x: len(x.split(' ')))"
   ]
  },
  {
   "cell_type": "code",
   "execution_count": 23,
   "id": "f75c09e5",
   "metadata": {},
   "outputs": [
    {
     "data": {
      "text/html": [
       "<div>\n",
       "<style scoped>\n",
       "    .dataframe tbody tr th:only-of-type {\n",
       "        vertical-align: middle;\n",
       "    }\n",
       "\n",
       "    .dataframe tbody tr th {\n",
       "        vertical-align: top;\n",
       "    }\n",
       "\n",
       "    .dataframe thead th {\n",
       "        text-align: right;\n",
       "    }\n",
       "</style>\n",
       "<table border=\"1\" class=\"dataframe\">\n",
       "  <thead>\n",
       "    <tr style=\"text-align: right;\">\n",
       "      <th></th>\n",
       "      <th>Review</th>\n",
       "      <th>Rating</th>\n",
       "      <th>Clean_Review</th>\n",
       "      <th>neg</th>\n",
       "      <th>neu</th>\n",
       "      <th>pos</th>\n",
       "      <th>compound</th>\n",
       "      <th>Chars</th>\n",
       "      <th>Words</th>\n",
       "    </tr>\n",
       "  </thead>\n",
       "  <tbody>\n",
       "    <tr>\n",
       "      <th>10726</th>\n",
       "      <td>not recommend hotel did reviewers actually sta...</td>\n",
       "      <td>1</td>\n",
       "      <td>recommend hotel reviewer stay hotel good thing...</td>\n",
       "      <td>0.267</td>\n",
       "      <td>0.637</td>\n",
       "      <td>0.096</td>\n",
       "      <td>-0.8384</td>\n",
       "      <td>312</td>\n",
       "      <td>48</td>\n",
       "    </tr>\n",
       "    <tr>\n",
       "      <th>14919</th>\n",
       "      <td>barcelona rocks \\tstayed hotel jazz girlfriend...</td>\n",
       "      <td>4</td>\n",
       "      <td>barcelona rock stay hotel jazz girlfriend nigh...</td>\n",
       "      <td>0.138</td>\n",
       "      <td>0.685</td>\n",
       "      <td>0.177</td>\n",
       "      <td>0.9497</td>\n",
       "      <td>2479</td>\n",
       "      <td>360</td>\n",
       "    </tr>\n",
       "    <tr>\n",
       "      <th>19098</th>\n",
       "      <td>ok hotel good location stayed night way beijin...</td>\n",
       "      <td>3</td>\n",
       "      <td>hotel good location stay night beijing rawa is...</td>\n",
       "      <td>0.000</td>\n",
       "      <td>0.572</td>\n",
       "      <td>0.428</td>\n",
       "      <td>0.9217</td>\n",
       "      <td>164</td>\n",
       "      <td>27</td>\n",
       "    </tr>\n",
       "    <tr>\n",
       "      <th>2450</th>\n",
       "      <td>great service nice pool ok beach lovely ground...</td>\n",
       "      <td>4</td>\n",
       "      <td>great service nice pool beach lovely ground sm...</td>\n",
       "      <td>0.070</td>\n",
       "      <td>0.644</td>\n",
       "      <td>0.286</td>\n",
       "      <td>0.9978</td>\n",
       "      <td>2059</td>\n",
       "      <td>320</td>\n",
       "    </tr>\n",
       "    <tr>\n",
       "      <th>960</th>\n",
       "      <td>surprising treat spent weekend july 15/16 2006...</td>\n",
       "      <td>5</td>\n",
       "      <td>surprising treat spend weekend july cartwright...</td>\n",
       "      <td>0.059</td>\n",
       "      <td>0.639</td>\n",
       "      <td>0.302</td>\n",
       "      <td>0.9801</td>\n",
       "      <td>689</td>\n",
       "      <td>98</td>\n",
       "    </tr>\n",
       "  </tbody>\n",
       "</table>\n",
       "</div>"
      ],
      "text/plain": [
       "                                                  Review  Rating  \\\n",
       "10726  not recommend hotel did reviewers actually sta...       1   \n",
       "14919  barcelona rocks \\tstayed hotel jazz girlfriend...       4   \n",
       "19098  ok hotel good location stayed night way beijin...       3   \n",
       "2450   great service nice pool ok beach lovely ground...       4   \n",
       "960    surprising treat spent weekend july 15/16 2006...       5   \n",
       "\n",
       "                                            Clean_Review    neg    neu    pos  \\\n",
       "10726  recommend hotel reviewer stay hotel good thing...  0.267  0.637  0.096   \n",
       "14919  barcelona rock stay hotel jazz girlfriend nigh...  0.138  0.685  0.177   \n",
       "19098  hotel good location stay night beijing rawa is...  0.000  0.572  0.428   \n",
       "2450   great service nice pool beach lovely ground sm...  0.070  0.644  0.286   \n",
       "960    surprising treat spend weekend july cartwright...  0.059  0.639  0.302   \n",
       "\n",
       "       compound  Chars  Words  \n",
       "10726   -0.8384    312     48  \n",
       "14919    0.9497   2479    360  \n",
       "19098    0.9217    164     27  \n",
       "2450     0.9978   2059    320  \n",
       "960      0.9801    689     98  "
      ]
     },
     "execution_count": 23,
     "metadata": {},
     "output_type": "execute_result"
    }
   ],
   "source": [
    "df.head()"
   ]
  },
  {
   "cell_type": "code",
   "execution_count": 24,
   "id": "9a94df7d",
   "metadata": {},
   "outputs": [],
   "source": [
    "# create doc2vec vector columns\n",
    "documents = [TaggedDocument(doc, [i]) for i, doc in enumerate(df['Clean_Review'].apply(lambda x: x.split(' ')))]\n",
    "\n",
    "# train a Doc2Vec model with our text data\n",
    "model = Doc2Vec(documents, vector_size=5, window=2, min_count=1, workers=4)\n",
    "\n",
    "# transform each document into a vector data\n",
    "doc2vec_df = df['Clean_Review'].apply(lambda x: model.infer_vector(x.split(\" \"))).apply(pd.Series)\n",
    "doc2vec_df.columns = ['doc2vec_vector_' + str(x) for x in doc2vec_df.columns]\n",
    "df = pd.concat([df, doc2vec_df], axis=1)"
   ]
  },
  {
   "cell_type": "markdown",
   "id": "dbb63d42",
   "metadata": {},
   "source": [
    "Using **Doc2Vec** to transform each text into numerical vectors."
   ]
  },
  {
   "cell_type": "code",
   "execution_count": 25,
   "id": "b0ab1581",
   "metadata": {},
   "outputs": [
    {
     "data": {
      "text/html": [
       "<div>\n",
       "<style scoped>\n",
       "    .dataframe tbody tr th:only-of-type {\n",
       "        vertical-align: middle;\n",
       "    }\n",
       "\n",
       "    .dataframe tbody tr th {\n",
       "        vertical-align: top;\n",
       "    }\n",
       "\n",
       "    .dataframe thead th {\n",
       "        text-align: right;\n",
       "    }\n",
       "</style>\n",
       "<table border=\"1\" class=\"dataframe\">\n",
       "  <thead>\n",
       "    <tr style=\"text-align: right;\">\n",
       "      <th></th>\n",
       "      <th>Review</th>\n",
       "      <th>Rating</th>\n",
       "      <th>Clean_Review</th>\n",
       "      <th>neg</th>\n",
       "      <th>neu</th>\n",
       "      <th>pos</th>\n",
       "      <th>compound</th>\n",
       "      <th>Chars</th>\n",
       "      <th>Words</th>\n",
       "      <th>doc2vec_vector_0</th>\n",
       "      <th>doc2vec_vector_1</th>\n",
       "      <th>doc2vec_vector_2</th>\n",
       "      <th>doc2vec_vector_3</th>\n",
       "      <th>doc2vec_vector_4</th>\n",
       "    </tr>\n",
       "  </thead>\n",
       "  <tbody>\n",
       "    <tr>\n",
       "      <th>10726</th>\n",
       "      <td>not recommend hotel did reviewers actually sta...</td>\n",
       "      <td>1</td>\n",
       "      <td>recommend hotel reviewer stay hotel good thing...</td>\n",
       "      <td>0.267</td>\n",
       "      <td>0.637</td>\n",
       "      <td>0.096</td>\n",
       "      <td>-0.8384</td>\n",
       "      <td>312</td>\n",
       "      <td>48</td>\n",
       "      <td>0.007883</td>\n",
       "      <td>0.354603</td>\n",
       "      <td>0.129171</td>\n",
       "      <td>-0.066103</td>\n",
       "      <td>-0.027625</td>\n",
       "    </tr>\n",
       "    <tr>\n",
       "      <th>14919</th>\n",
       "      <td>barcelona rocks \\tstayed hotel jazz girlfriend...</td>\n",
       "      <td>4</td>\n",
       "      <td>barcelona rock stay hotel jazz girlfriend nigh...</td>\n",
       "      <td>0.138</td>\n",
       "      <td>0.685</td>\n",
       "      <td>0.177</td>\n",
       "      <td>0.9497</td>\n",
       "      <td>2479</td>\n",
       "      <td>360</td>\n",
       "      <td>1.911419</td>\n",
       "      <td>2.128553</td>\n",
       "      <td>0.745342</td>\n",
       "      <td>-2.029231</td>\n",
       "      <td>0.531722</td>\n",
       "    </tr>\n",
       "    <tr>\n",
       "      <th>19098</th>\n",
       "      <td>ok hotel good location stayed night way beijin...</td>\n",
       "      <td>3</td>\n",
       "      <td>hotel good location stay night beijing rawa is...</td>\n",
       "      <td>0.000</td>\n",
       "      <td>0.572</td>\n",
       "      <td>0.428</td>\n",
       "      <td>0.9217</td>\n",
       "      <td>164</td>\n",
       "      <td>27</td>\n",
       "      <td>-0.125178</td>\n",
       "      <td>0.361736</td>\n",
       "      <td>-0.137931</td>\n",
       "      <td>-0.170933</td>\n",
       "      <td>-0.159253</td>\n",
       "    </tr>\n",
       "    <tr>\n",
       "      <th>2450</th>\n",
       "      <td>great service nice pool ok beach lovely ground...</td>\n",
       "      <td>4</td>\n",
       "      <td>great service nice pool beach lovely ground sm...</td>\n",
       "      <td>0.070</td>\n",
       "      <td>0.644</td>\n",
       "      <td>0.286</td>\n",
       "      <td>0.9978</td>\n",
       "      <td>2059</td>\n",
       "      <td>320</td>\n",
       "      <td>0.200774</td>\n",
       "      <td>1.022699</td>\n",
       "      <td>1.663106</td>\n",
       "      <td>-2.619904</td>\n",
       "      <td>-0.159047</td>\n",
       "    </tr>\n",
       "    <tr>\n",
       "      <th>960</th>\n",
       "      <td>surprising treat spent weekend july 15/16 2006...</td>\n",
       "      <td>5</td>\n",
       "      <td>surprising treat spend weekend july cartwright...</td>\n",
       "      <td>0.059</td>\n",
       "      <td>0.639</td>\n",
       "      <td>0.302</td>\n",
       "      <td>0.9801</td>\n",
       "      <td>689</td>\n",
       "      <td>98</td>\n",
       "      <td>0.389365</td>\n",
       "      <td>0.631180</td>\n",
       "      <td>0.595815</td>\n",
       "      <td>-0.875913</td>\n",
       "      <td>-0.134321</td>\n",
       "    </tr>\n",
       "  </tbody>\n",
       "</table>\n",
       "</div>"
      ],
      "text/plain": [
       "                                                  Review  Rating  \\\n",
       "10726  not recommend hotel did reviewers actually sta...       1   \n",
       "14919  barcelona rocks \\tstayed hotel jazz girlfriend...       4   \n",
       "19098  ok hotel good location stayed night way beijin...       3   \n",
       "2450   great service nice pool ok beach lovely ground...       4   \n",
       "960    surprising treat spent weekend july 15/16 2006...       5   \n",
       "\n",
       "                                            Clean_Review    neg    neu    pos  \\\n",
       "10726  recommend hotel reviewer stay hotel good thing...  0.267  0.637  0.096   \n",
       "14919  barcelona rock stay hotel jazz girlfriend nigh...  0.138  0.685  0.177   \n",
       "19098  hotel good location stay night beijing rawa is...  0.000  0.572  0.428   \n",
       "2450   great service nice pool beach lovely ground sm...  0.070  0.644  0.286   \n",
       "960    surprising treat spend weekend july cartwright...  0.059  0.639  0.302   \n",
       "\n",
       "       compound  Chars  Words  doc2vec_vector_0  doc2vec_vector_1  \\\n",
       "10726   -0.8384    312     48          0.007883          0.354603   \n",
       "14919    0.9497   2479    360          1.911419          2.128553   \n",
       "19098    0.9217    164     27         -0.125178          0.361736   \n",
       "2450     0.9978   2059    320          0.200774          1.022699   \n",
       "960      0.9801    689     98          0.389365          0.631180   \n",
       "\n",
       "       doc2vec_vector_2  doc2vec_vector_3  doc2vec_vector_4  \n",
       "10726          0.129171         -0.066103         -0.027625  \n",
       "14919          0.745342         -2.029231          0.531722  \n",
       "19098         -0.137931         -0.170933         -0.159253  \n",
       "2450           1.663106         -2.619904         -0.159047  \n",
       "960            0.595815         -0.875913         -0.134321  "
      ]
     },
     "execution_count": 25,
     "metadata": {},
     "output_type": "execute_result"
    }
   ],
   "source": [
    "df.head()"
   ]
  },
  {
   "cell_type": "code",
   "execution_count": 28,
   "id": "08df1712",
   "metadata": {},
   "outputs": [],
   "source": [
    "# add tf-idfs\n",
    "\n",
    "tfidf = TfidfVectorizer(min_df = 10)\n",
    "tfidf_result = tfidf.fit_transform(df['Clean_Review']).toarray()\n",
    "tfidf_df = pd.DataFrame(tfidf_result, columns = tfidf.get_feature_names_out())\n",
    "tfidf_df.columns = ['word_' + str(x) for x in tfidf_df.columns]\n",
    "tfidf_df.index = df.index\n",
    "df = pd.concat([df, tfidf_df], axis=1)"
   ]
  },
  {
   "cell_type": "markdown",
   "id": "ff9c1665",
   "metadata": {},
   "source": [
    "Add the **TF-IDF** (Term Frequency - Inverse Document Frequency) values for every words to find out which word that has useful information for analysis.\n",
    "\n",
    "The TF-IDF metric solves this problem:\n",
    "- TF computes the classic number of times the word appears in the text\n",
    "- IDF computes the relative importance of this word which depends on how many texts the word can be found"
   ]
  },
  {
   "cell_type": "code",
   "execution_count": 29,
   "id": "6da9713f",
   "metadata": {
    "scrolled": false
   },
   "outputs": [
    {
     "data": {
      "text/html": [
       "<div>\n",
       "<style scoped>\n",
       "    .dataframe tbody tr th:only-of-type {\n",
       "        vertical-align: middle;\n",
       "    }\n",
       "\n",
       "    .dataframe tbody tr th {\n",
       "        vertical-align: top;\n",
       "    }\n",
       "\n",
       "    .dataframe thead th {\n",
       "        text-align: right;\n",
       "    }\n",
       "</style>\n",
       "<table border=\"1\" class=\"dataframe\">\n",
       "  <thead>\n",
       "    <tr style=\"text-align: right;\">\n",
       "      <th></th>\n",
       "      <th>Review</th>\n",
       "      <th>Rating</th>\n",
       "      <th>Clean_Review</th>\n",
       "      <th>neg</th>\n",
       "      <th>neu</th>\n",
       "      <th>pos</th>\n",
       "      <th>compound</th>\n",
       "      <th>Chars</th>\n",
       "      <th>Words</th>\n",
       "      <th>doc2vec_vector_0</th>\n",
       "      <th>...</th>\n",
       "      <th>word_yard</th>\n",
       "      <th>word_year</th>\n",
       "      <th>word_yell</th>\n",
       "      <th>word_yellow</th>\n",
       "      <th>word_yes</th>\n",
       "      <th>word_yogurt</th>\n",
       "      <th>word_york</th>\n",
       "      <th>word_you</th>\n",
       "      <th>word_young</th>\n",
       "      <th>word_yummy</th>\n",
       "    </tr>\n",
       "  </thead>\n",
       "  <tbody>\n",
       "    <tr>\n",
       "      <th>10726</th>\n",
       "      <td>not recommend hotel did reviewers actually sta...</td>\n",
       "      <td>1</td>\n",
       "      <td>recommend hotel reviewer stay hotel good thing...</td>\n",
       "      <td>0.267</td>\n",
       "      <td>0.637</td>\n",
       "      <td>0.096</td>\n",
       "      <td>-0.8384</td>\n",
       "      <td>312</td>\n",
       "      <td>48</td>\n",
       "      <td>0.007883</td>\n",
       "      <td>...</td>\n",
       "      <td>0.0</td>\n",
       "      <td>0.0</td>\n",
       "      <td>0.0</td>\n",
       "      <td>0.0</td>\n",
       "      <td>0.0</td>\n",
       "      <td>0.0</td>\n",
       "      <td>0.0</td>\n",
       "      <td>0.0</td>\n",
       "      <td>0.000000</td>\n",
       "      <td>0.0</td>\n",
       "    </tr>\n",
       "    <tr>\n",
       "      <th>14919</th>\n",
       "      <td>barcelona rocks \\tstayed hotel jazz girlfriend...</td>\n",
       "      <td>4</td>\n",
       "      <td>barcelona rock stay hotel jazz girlfriend nigh...</td>\n",
       "      <td>0.138</td>\n",
       "      <td>0.685</td>\n",
       "      <td>0.177</td>\n",
       "      <td>0.9497</td>\n",
       "      <td>2479</td>\n",
       "      <td>360</td>\n",
       "      <td>1.911419</td>\n",
       "      <td>...</td>\n",
       "      <td>0.0</td>\n",
       "      <td>0.0</td>\n",
       "      <td>0.0</td>\n",
       "      <td>0.0</td>\n",
       "      <td>0.0</td>\n",
       "      <td>0.0</td>\n",
       "      <td>0.0</td>\n",
       "      <td>0.0</td>\n",
       "      <td>0.000000</td>\n",
       "      <td>0.0</td>\n",
       "    </tr>\n",
       "    <tr>\n",
       "      <th>19098</th>\n",
       "      <td>ok hotel good location stayed night way beijin...</td>\n",
       "      <td>3</td>\n",
       "      <td>hotel good location stay night beijing rawa is...</td>\n",
       "      <td>0.000</td>\n",
       "      <td>0.572</td>\n",
       "      <td>0.428</td>\n",
       "      <td>0.9217</td>\n",
       "      <td>164</td>\n",
       "      <td>27</td>\n",
       "      <td>-0.125178</td>\n",
       "      <td>...</td>\n",
       "      <td>0.0</td>\n",
       "      <td>0.0</td>\n",
       "      <td>0.0</td>\n",
       "      <td>0.0</td>\n",
       "      <td>0.0</td>\n",
       "      <td>0.0</td>\n",
       "      <td>0.0</td>\n",
       "      <td>0.0</td>\n",
       "      <td>0.000000</td>\n",
       "      <td>0.0</td>\n",
       "    </tr>\n",
       "    <tr>\n",
       "      <th>2450</th>\n",
       "      <td>great service nice pool ok beach lovely ground...</td>\n",
       "      <td>4</td>\n",
       "      <td>great service nice pool beach lovely ground sm...</td>\n",
       "      <td>0.070</td>\n",
       "      <td>0.644</td>\n",
       "      <td>0.286</td>\n",
       "      <td>0.9978</td>\n",
       "      <td>2059</td>\n",
       "      <td>320</td>\n",
       "      <td>0.200774</td>\n",
       "      <td>...</td>\n",
       "      <td>0.0</td>\n",
       "      <td>0.0</td>\n",
       "      <td>0.0</td>\n",
       "      <td>0.0</td>\n",
       "      <td>0.0</td>\n",
       "      <td>0.0</td>\n",
       "      <td>0.0</td>\n",
       "      <td>0.0</td>\n",
       "      <td>0.053745</td>\n",
       "      <td>0.0</td>\n",
       "    </tr>\n",
       "    <tr>\n",
       "      <th>960</th>\n",
       "      <td>surprising treat spent weekend july 15/16 2006...</td>\n",
       "      <td>5</td>\n",
       "      <td>surprising treat spend weekend july cartwright...</td>\n",
       "      <td>0.059</td>\n",
       "      <td>0.639</td>\n",
       "      <td>0.302</td>\n",
       "      <td>0.9801</td>\n",
       "      <td>689</td>\n",
       "      <td>98</td>\n",
       "      <td>0.389365</td>\n",
       "      <td>...</td>\n",
       "      <td>0.0</td>\n",
       "      <td>0.0</td>\n",
       "      <td>0.0</td>\n",
       "      <td>0.0</td>\n",
       "      <td>0.0</td>\n",
       "      <td>0.0</td>\n",
       "      <td>0.0</td>\n",
       "      <td>0.0</td>\n",
       "      <td>0.000000</td>\n",
       "      <td>0.0</td>\n",
       "    </tr>\n",
       "  </tbody>\n",
       "</table>\n",
       "<p>5 rows × 1995 columns</p>\n",
       "</div>"
      ],
      "text/plain": [
       "                                                  Review  Rating  \\\n",
       "10726  not recommend hotel did reviewers actually sta...       1   \n",
       "14919  barcelona rocks \\tstayed hotel jazz girlfriend...       4   \n",
       "19098  ok hotel good location stayed night way beijin...       3   \n",
       "2450   great service nice pool ok beach lovely ground...       4   \n",
       "960    surprising treat spent weekend july 15/16 2006...       5   \n",
       "\n",
       "                                            Clean_Review    neg    neu    pos  \\\n",
       "10726  recommend hotel reviewer stay hotel good thing...  0.267  0.637  0.096   \n",
       "14919  barcelona rock stay hotel jazz girlfriend nigh...  0.138  0.685  0.177   \n",
       "19098  hotel good location stay night beijing rawa is...  0.000  0.572  0.428   \n",
       "2450   great service nice pool beach lovely ground sm...  0.070  0.644  0.286   \n",
       "960    surprising treat spend weekend july cartwright...  0.059  0.639  0.302   \n",
       "\n",
       "       compound  Chars  Words  doc2vec_vector_0  ...  word_yard  word_year  \\\n",
       "10726   -0.8384    312     48          0.007883  ...        0.0        0.0   \n",
       "14919    0.9497   2479    360          1.911419  ...        0.0        0.0   \n",
       "19098    0.9217    164     27         -0.125178  ...        0.0        0.0   \n",
       "2450     0.9978   2059    320          0.200774  ...        0.0        0.0   \n",
       "960      0.9801    689     98          0.389365  ...        0.0        0.0   \n",
       "\n",
       "       word_yell  word_yellow  word_yes  word_yogurt  word_york  word_you  \\\n",
       "10726        0.0          0.0       0.0          0.0        0.0       0.0   \n",
       "14919        0.0          0.0       0.0          0.0        0.0       0.0   \n",
       "19098        0.0          0.0       0.0          0.0        0.0       0.0   \n",
       "2450         0.0          0.0       0.0          0.0        0.0       0.0   \n",
       "960          0.0          0.0       0.0          0.0        0.0       0.0   \n",
       "\n",
       "       word_young  word_yummy  \n",
       "10726    0.000000         0.0  \n",
       "14919    0.000000         0.0  \n",
       "19098    0.000000         0.0  \n",
       "2450     0.053745         0.0  \n",
       "960      0.000000         0.0  \n",
       "\n",
       "[5 rows x 1995 columns]"
      ]
     },
     "execution_count": 29,
     "metadata": {},
     "output_type": "execute_result"
    }
   ],
   "source": [
    "df.head()"
   ]
  },
  {
   "cell_type": "code",
   "execution_count": 30,
   "id": "36fe8cb9",
   "metadata": {
    "scrolled": false
   },
   "outputs": [
    {
     "data": {
      "text/html": [
       "<div>\n",
       "<style scoped>\n",
       "    .dataframe tbody tr th:only-of-type {\n",
       "        vertical-align: middle;\n",
       "    }\n",
       "\n",
       "    .dataframe tbody tr th {\n",
       "        vertical-align: top;\n",
       "    }\n",
       "\n",
       "    .dataframe thead th {\n",
       "        text-align: right;\n",
       "    }\n",
       "</style>\n",
       "<table border=\"1\" class=\"dataframe\">\n",
       "  <thead>\n",
       "    <tr style=\"text-align: right;\">\n",
       "      <th></th>\n",
       "      <th>Review</th>\n",
       "      <th>Rating</th>\n",
       "      <th>Clean_Review</th>\n",
       "      <th>neg</th>\n",
       "      <th>neu</th>\n",
       "      <th>pos</th>\n",
       "      <th>compound</th>\n",
       "      <th>Chars</th>\n",
       "      <th>Words</th>\n",
       "      <th>doc2vec_vector_0</th>\n",
       "      <th>...</th>\n",
       "      <th>word_year</th>\n",
       "      <th>word_yell</th>\n",
       "      <th>word_yellow</th>\n",
       "      <th>word_yes</th>\n",
       "      <th>word_yogurt</th>\n",
       "      <th>word_york</th>\n",
       "      <th>word_you</th>\n",
       "      <th>word_young</th>\n",
       "      <th>word_yummy</th>\n",
       "      <th>posneg</th>\n",
       "    </tr>\n",
       "  </thead>\n",
       "  <tbody>\n",
       "    <tr>\n",
       "      <th>10726</th>\n",
       "      <td>not recommend hotel did reviewers actually sta...</td>\n",
       "      <td>1</td>\n",
       "      <td>recommend hotel reviewer stay hotel good thing...</td>\n",
       "      <td>0.267</td>\n",
       "      <td>0.637</td>\n",
       "      <td>0.096</td>\n",
       "      <td>-0.8384</td>\n",
       "      <td>312</td>\n",
       "      <td>48</td>\n",
       "      <td>0.007883</td>\n",
       "      <td>...</td>\n",
       "      <td>0.0</td>\n",
       "      <td>0.0</td>\n",
       "      <td>0.0</td>\n",
       "      <td>0.0</td>\n",
       "      <td>0.0</td>\n",
       "      <td>0.0</td>\n",
       "      <td>0.0</td>\n",
       "      <td>0.000000</td>\n",
       "      <td>0.0</td>\n",
       "      <td>0</td>\n",
       "    </tr>\n",
       "    <tr>\n",
       "      <th>14919</th>\n",
       "      <td>barcelona rocks \\tstayed hotel jazz girlfriend...</td>\n",
       "      <td>4</td>\n",
       "      <td>barcelona rock stay hotel jazz girlfriend nigh...</td>\n",
       "      <td>0.138</td>\n",
       "      <td>0.685</td>\n",
       "      <td>0.177</td>\n",
       "      <td>0.9497</td>\n",
       "      <td>2479</td>\n",
       "      <td>360</td>\n",
       "      <td>1.911419</td>\n",
       "      <td>...</td>\n",
       "      <td>0.0</td>\n",
       "      <td>0.0</td>\n",
       "      <td>0.0</td>\n",
       "      <td>0.0</td>\n",
       "      <td>0.0</td>\n",
       "      <td>0.0</td>\n",
       "      <td>0.0</td>\n",
       "      <td>0.000000</td>\n",
       "      <td>0.0</td>\n",
       "      <td>0</td>\n",
       "    </tr>\n",
       "    <tr>\n",
       "      <th>19098</th>\n",
       "      <td>ok hotel good location stayed night way beijin...</td>\n",
       "      <td>3</td>\n",
       "      <td>hotel good location stay night beijing rawa is...</td>\n",
       "      <td>0.000</td>\n",
       "      <td>0.572</td>\n",
       "      <td>0.428</td>\n",
       "      <td>0.9217</td>\n",
       "      <td>164</td>\n",
       "      <td>27</td>\n",
       "      <td>-0.125178</td>\n",
       "      <td>...</td>\n",
       "      <td>0.0</td>\n",
       "      <td>0.0</td>\n",
       "      <td>0.0</td>\n",
       "      <td>0.0</td>\n",
       "      <td>0.0</td>\n",
       "      <td>0.0</td>\n",
       "      <td>0.0</td>\n",
       "      <td>0.000000</td>\n",
       "      <td>0.0</td>\n",
       "      <td>0</td>\n",
       "    </tr>\n",
       "    <tr>\n",
       "      <th>2450</th>\n",
       "      <td>great service nice pool ok beach lovely ground...</td>\n",
       "      <td>4</td>\n",
       "      <td>great service nice pool beach lovely ground sm...</td>\n",
       "      <td>0.070</td>\n",
       "      <td>0.644</td>\n",
       "      <td>0.286</td>\n",
       "      <td>0.9978</td>\n",
       "      <td>2059</td>\n",
       "      <td>320</td>\n",
       "      <td>0.200774</td>\n",
       "      <td>...</td>\n",
       "      <td>0.0</td>\n",
       "      <td>0.0</td>\n",
       "      <td>0.0</td>\n",
       "      <td>0.0</td>\n",
       "      <td>0.0</td>\n",
       "      <td>0.0</td>\n",
       "      <td>0.0</td>\n",
       "      <td>0.053745</td>\n",
       "      <td>0.0</td>\n",
       "      <td>0</td>\n",
       "    </tr>\n",
       "    <tr>\n",
       "      <th>960</th>\n",
       "      <td>surprising treat spent weekend july 15/16 2006...</td>\n",
       "      <td>5</td>\n",
       "      <td>surprising treat spend weekend july cartwright...</td>\n",
       "      <td>0.059</td>\n",
       "      <td>0.639</td>\n",
       "      <td>0.302</td>\n",
       "      <td>0.9801</td>\n",
       "      <td>689</td>\n",
       "      <td>98</td>\n",
       "      <td>0.389365</td>\n",
       "      <td>...</td>\n",
       "      <td>0.0</td>\n",
       "      <td>0.0</td>\n",
       "      <td>0.0</td>\n",
       "      <td>0.0</td>\n",
       "      <td>0.0</td>\n",
       "      <td>0.0</td>\n",
       "      <td>0.0</td>\n",
       "      <td>0.000000</td>\n",
       "      <td>0.0</td>\n",
       "      <td>1</td>\n",
       "    </tr>\n",
       "  </tbody>\n",
       "</table>\n",
       "<p>5 rows × 1996 columns</p>\n",
       "</div>"
      ],
      "text/plain": [
       "                                                  Review  Rating  \\\n",
       "10726  not recommend hotel did reviewers actually sta...       1   \n",
       "14919  barcelona rocks \\tstayed hotel jazz girlfriend...       4   \n",
       "19098  ok hotel good location stayed night way beijin...       3   \n",
       "2450   great service nice pool ok beach lovely ground...       4   \n",
       "960    surprising treat spent weekend july 15/16 2006...       5   \n",
       "\n",
       "                                            Clean_Review    neg    neu    pos  \\\n",
       "10726  recommend hotel reviewer stay hotel good thing...  0.267  0.637  0.096   \n",
       "14919  barcelona rock stay hotel jazz girlfriend nigh...  0.138  0.685  0.177   \n",
       "19098  hotel good location stay night beijing rawa is...  0.000  0.572  0.428   \n",
       "2450   great service nice pool beach lovely ground sm...  0.070  0.644  0.286   \n",
       "960    surprising treat spend weekend july cartwright...  0.059  0.639  0.302   \n",
       "\n",
       "       compound  Chars  Words  doc2vec_vector_0  ...  word_year  word_yell  \\\n",
       "10726   -0.8384    312     48          0.007883  ...        0.0        0.0   \n",
       "14919    0.9497   2479    360          1.911419  ...        0.0        0.0   \n",
       "19098    0.9217    164     27         -0.125178  ...        0.0        0.0   \n",
       "2450     0.9978   2059    320          0.200774  ...        0.0        0.0   \n",
       "960      0.9801    689     98          0.389365  ...        0.0        0.0   \n",
       "\n",
       "       word_yellow  word_yes  word_yogurt  word_york  word_you  word_young  \\\n",
       "10726          0.0       0.0          0.0        0.0       0.0    0.000000   \n",
       "14919          0.0       0.0          0.0        0.0       0.0    0.000000   \n",
       "19098          0.0       0.0          0.0        0.0       0.0    0.000000   \n",
       "2450           0.0       0.0          0.0        0.0       0.0    0.053745   \n",
       "960            0.0       0.0          0.0        0.0       0.0    0.000000   \n",
       "\n",
       "       word_yummy  posneg  \n",
       "10726         0.0       0  \n",
       "14919         0.0       0  \n",
       "19098         0.0       0  \n",
       "2450          0.0       0  \n",
       "960           0.0       1  \n",
       "\n",
       "[5 rows x 1996 columns]"
      ]
     },
     "execution_count": 30,
     "metadata": {},
     "output_type": "execute_result"
    }
   ],
   "source": [
    "# create the positive and negative label\n",
    "\n",
    "df['posneg'] = df['Rating'].apply(lambda x: 0 if x < 5 else 1)\n",
    "\n",
    "df.head()"
   ]
  },
  {
   "cell_type": "markdown",
   "id": "50dc05db",
   "metadata": {},
   "source": [
    "## EXPLORATORY DATA ANALYSIS"
   ]
  },
  {
   "cell_type": "code",
   "execution_count": 31,
   "id": "91578587",
   "metadata": {},
   "outputs": [],
   "source": [
    "# Calculate Positive and Negative Review\n",
    "\n",
    "train_pos = df[ df['posneg'] == 1]\n",
    "train_pos = train_pos['Clean_Review']\n",
    "train_neg = df[ df['posneg'] == 0]\n",
    "train_neg = train_neg['Clean_Review']"
   ]
  },
  {
   "cell_type": "code",
   "execution_count": 32,
   "id": "723851eb",
   "metadata": {},
   "outputs": [],
   "source": [
    "# Generate WordCloud Function\n",
    "\n",
    "def wordCloud_generator(data, color, color_map):\n",
    "    \n",
    "    wave_mask = np.array(Image.open('cloud.png'))\n",
    "    \n",
    "    wordcloud = WordCloud(width = 1000, height = 1000,\n",
    "                          background_color =color,\n",
    "                          min_font_size = 12,\n",
    "                          colormap= color_map,\n",
    "                          mask = wave_mask\n",
    "                         ).generate(' '.join(data.values))\n",
    "    \n",
    "    # plot the WordCloud image                        \n",
    "    plt.figure(figsize = (10, 10), facecolor = None) \n",
    "    plt.imshow(wordcloud, interpolation='bilinear') \n",
    "    plt.axis('off')\n",
    "    \n",
    "    plt.show() "
   ]
  },
  {
   "cell_type": "code",
   "execution_count": 33,
   "id": "be06b252",
   "metadata": {
    "scrolled": false
   },
   "outputs": [
    {
     "ename": "FileNotFoundError",
     "evalue": "[Errno 2] No such file or directory: 'cloud.png'",
     "output_type": "error",
     "traceback": [
      "\u001b[1;31m---------------------------------------------------------------------------\u001b[0m",
      "\u001b[1;31mFileNotFoundError\u001b[0m                         Traceback (most recent call last)",
      "Cell \u001b[1;32mIn[33], line 3\u001b[0m\n\u001b[0;32m      1\u001b[0m \u001b[39m# WordCloud for Positive Review\u001b[39;00m\n\u001b[1;32m----> 3\u001b[0m wordCloud_generator(train_pos, \u001b[39m'\u001b[39;49m\u001b[39mwhite\u001b[39;49m\u001b[39m'\u001b[39;49m, \u001b[39m'\u001b[39;49m\u001b[39mocean\u001b[39;49m\u001b[39m'\u001b[39;49m)\n",
      "Cell \u001b[1;32mIn[32], line 5\u001b[0m, in \u001b[0;36mwordCloud_generator\u001b[1;34m(data, color, color_map)\u001b[0m\n\u001b[0;32m      3\u001b[0m \u001b[39mdef\u001b[39;00m \u001b[39mwordCloud_generator\u001b[39m(data, color, color_map):\n\u001b[1;32m----> 5\u001b[0m     wave_mask \u001b[39m=\u001b[39m np\u001b[39m.\u001b[39marray(Image\u001b[39m.\u001b[39;49mopen(\u001b[39m'\u001b[39;49m\u001b[39mcloud.png\u001b[39;49m\u001b[39m'\u001b[39;49m))\n\u001b[0;32m      7\u001b[0m     wordcloud \u001b[39m=\u001b[39m WordCloud(width \u001b[39m=\u001b[39m \u001b[39m1000\u001b[39m, height \u001b[39m=\u001b[39m \u001b[39m1000\u001b[39m,\n\u001b[0;32m      8\u001b[0m                           background_color \u001b[39m=\u001b[39mcolor,\n\u001b[0;32m      9\u001b[0m                           min_font_size \u001b[39m=\u001b[39m \u001b[39m12\u001b[39m,\n\u001b[0;32m     10\u001b[0m                           colormap\u001b[39m=\u001b[39m color_map,\n\u001b[0;32m     11\u001b[0m                           mask \u001b[39m=\u001b[39m wave_mask\n\u001b[0;32m     12\u001b[0m                          )\u001b[39m.\u001b[39mgenerate(\u001b[39m'\u001b[39m\u001b[39m \u001b[39m\u001b[39m'\u001b[39m\u001b[39m.\u001b[39mjoin(data\u001b[39m.\u001b[39mvalues))\n\u001b[0;32m     14\u001b[0m     \u001b[39m# plot the WordCloud image                        \u001b[39;00m\n",
      "File \u001b[1;32m~\\AppData\\Local\\Packages\\PythonSoftwareFoundation.Python.3.11_qbz5n2kfra8p0\\LocalCache\\local-packages\\Python311\\site-packages\\PIL\\Image.py:3236\u001b[0m, in \u001b[0;36mopen\u001b[1;34m(fp, mode, formats)\u001b[0m\n\u001b[0;32m   3233\u001b[0m     filename \u001b[39m=\u001b[39m fp\n\u001b[0;32m   3235\u001b[0m \u001b[39mif\u001b[39;00m filename:\n\u001b[1;32m-> 3236\u001b[0m     fp \u001b[39m=\u001b[39m builtins\u001b[39m.\u001b[39;49mopen(filename, \u001b[39m\"\u001b[39;49m\u001b[39mrb\u001b[39;49m\u001b[39m\"\u001b[39;49m)\n\u001b[0;32m   3237\u001b[0m     exclusive_fp \u001b[39m=\u001b[39m \u001b[39mTrue\u001b[39;00m\n\u001b[0;32m   3239\u001b[0m \u001b[39mtry\u001b[39;00m:\n",
      "\u001b[1;31mFileNotFoundError\u001b[0m: [Errno 2] No such file or directory: 'cloud.png'"
     ]
    }
   ],
   "source": [
    "# WordCloud for Positive Review\n",
    "\n",
    "wordCloud_generator(train_pos, 'white', 'ocean')"
   ]
  },
  {
   "cell_type": "code",
   "execution_count": 35,
   "id": "0a6a29b0",
   "metadata": {
    "scrolled": false
   },
   "outputs": [
    {
     "data": {
      "image/png": "[encoded data removed]",
      "text/plain": [
       "<Figure size 1000x1000 with 1 Axes>"
      ]
     },
     "metadata": {},
     "output_type": "display_data"
    }
   ],
   "source": [
    "# Wordcloud for Negative Review\n",
    "\n",
    "wordCloud_generator(train_neg, 'white', 'Reds')"
   ]
  },
  {
   "cell_type": "markdown",
   "id": "c1bc54ec",
   "metadata": {},
   "source": [
    "**EXPLANATION :**\n",
    "\n",
    "Based on the Wordcloud there is only slight difference between **Positive Reviews** and **Negative Reviews**. Both review are dominated with words like `hotel`, `room`, `stay`, `time`. But, in **Positive Reviews** there are much more positive and constructive words such as `excellent`, `fantastic`, `beautiful`, `wonderful`, and `love`. While **Negative Reviews** contains neutral to negative words, such as `bad`, `problem`, `small`, `service`, and `leave`. It means that even though both **Positive** and **Negative** mostly consist of the same words, but it has different meaning. "
   ]
  },
  {
   "cell_type": "code",
   "execution_count": 36,
   "id": "ac7e8fb5",
   "metadata": {},
   "outputs": [
    {
     "data": {
      "text/html": [
       "<div>\n",
       "<style scoped>\n",
       "    .dataframe tbody tr th:only-of-type {\n",
       "        vertical-align: middle;\n",
       "    }\n",
       "\n",
       "    .dataframe tbody tr th {\n",
       "        vertical-align: top;\n",
       "    }\n",
       "\n",
       "    .dataframe thead th {\n",
       "        text-align: right;\n",
       "    }\n",
       "</style>\n",
       "<table border=\"1\" class=\"dataframe\">\n",
       "  <thead>\n",
       "    <tr style=\"text-align: right;\">\n",
       "      <th></th>\n",
       "      <th>Rating</th>\n",
       "      <th>count</th>\n",
       "    </tr>\n",
       "  </thead>\n",
       "  <tbody>\n",
       "    <tr>\n",
       "      <th>0</th>\n",
       "      <td>1</td>\n",
       "      <td>139</td>\n",
       "    </tr>\n",
       "    <tr>\n",
       "      <th>1</th>\n",
       "      <td>2</td>\n",
       "      <td>170</td>\n",
       "    </tr>\n",
       "    <tr>\n",
       "      <th>2</th>\n",
       "      <td>3</td>\n",
       "      <td>216</td>\n",
       "    </tr>\n",
       "    <tr>\n",
       "      <th>3</th>\n",
       "      <td>4</td>\n",
       "      <td>614</td>\n",
       "    </tr>\n",
       "    <tr>\n",
       "      <th>4</th>\n",
       "      <td>5</td>\n",
       "      <td>910</td>\n",
       "    </tr>\n",
       "  </tbody>\n",
       "</table>\n",
       "</div>"
      ],
      "text/plain": [
       "   Rating  count\n",
       "0       1    139\n",
       "1       2    170\n",
       "2       3    216\n",
       "3       4    614\n",
       "4       5    910"
      ]
     },
     "execution_count": 36,
     "metadata": {},
     "output_type": "execute_result"
    }
   ],
   "source": [
    "# Create new dataframe to grouping the review star\n",
    "\n",
    "top_rev = (df.groupby('Rating') \n",
    "            .agg(count=('Rating', 'count'))\n",
    "            .reset_index()\n",
    "            .sort_values('count',ascending=True)\n",
    "            )\n",
    "top_rev"
   ]
  },
  {
   "cell_type": "code",
   "execution_count": 37,
   "id": "c39b1f1a",
   "metadata": {},
   "outputs": [],
   "source": [
    "# change count datatype to float\n",
    "\n",
    "top_rev['count'] = top_rev['count'].astype(float)"
   ]
  },
  {
   "cell_type": "code",
   "execution_count": 38,
   "id": "2ed62484",
   "metadata": {},
   "outputs": [],
   "source": [
    "# Bars are sorted by the cumulative track length\n",
    "top_rev = top_rev.sort_values('count', ascending=False)\n",
    "\n",
    "# Values for the x axis\n",
    "ANGLES = np.linspace(0.05, np.pi - 0.05, len(top_rev), endpoint=False)\n",
    "\n",
    "# Cumulative length\n",
    "LENGTHS = top_rev['count'].values\n",
    "\n",
    "# Rating label\n",
    "RATING = top_rev['Rating'].values"
   ]
  },
  {
   "cell_type": "code",
   "execution_count": 39,
   "id": "5d932aee",
   "metadata": {},
   "outputs": [],
   "source": [
    "GREY12 = \"#1f1f1f\"\n",
    "\n",
    "# Set default font color to GREY12\n",
    "plt.rcParams[\"text.color\"] = GREY12\n",
    "\n",
    "# The minus glyph is not available in Bell MT\n",
    "# This disables it, and uses a hyphen\n",
    "plt.rc(\"axes\", unicode_minus=True)\n",
    "\n",
    "# Colors\n",
    "COLORS = [\"#e8c2ca\",\"#d1b3c4\",\"#b392ac\",\"#735d78\"]\n",
    "\n",
    "# Colormap\n",
    "cmap = mpl.colors.LinearSegmentedColormap.from_list(\"my color\", COLORS, N=256)\n",
    "\n",
    "# Normalizer\n",
    "norm = mpl.colors.Normalize(vmin=LENGTHS.min(), vmax=LENGTHS.max())\n",
    "\n",
    "# Normalized colors. Each number of tracks is mapped to a color in the \n",
    "# color scale 'cmap'\n",
    "COLORS = cmap(norm(LENGTHS))"
   ]
  },
  {
   "cell_type": "code",
   "execution_count": 40,
   "id": "cb6a1a44",
   "metadata": {
    "scrolled": false
   },
   "outputs": [
    {
     "data": {
      "text/plain": [
       "<function matplotlib.pyplot.show(close=None, block=None)>"
      ]
     },
     "execution_count": 40,
     "metadata": {},
     "output_type": "execute_result"
    },
    {
     "data": {
      "image/png": "[encoded data removed]",
      "text/plain": [
       "<Figure size 900x1260 with 2 Axes>"
      ]
     },
     "metadata": {},
     "output_type": "display_data"
    }
   ],
   "source": [
    "# Some layout stuff ----------------------------------------------\n",
    "# Initialize layout in polar coordinates\n",
    "fig, ax = plt.subplots(figsize=(9, 12.6), subplot_kw={\"projection\": \"polar\"})\n",
    "\n",
    "# Set background color to white, both axis and figure.\n",
    "fig.patch.set_facecolor(\"white\")\n",
    "ax.set_facecolor(\"white\")\n",
    "\n",
    "ax.set_theta_offset(4.15 * np.pi / 2)\n",
    "ax.set_ylim(-10, 1000)\n",
    "\n",
    "# Add geometries to the plot -------------------------------------\n",
    "# See the zorder to manipulate which geometries are on top\n",
    "\n",
    "# Add bars to represent the cumulative track lengths\n",
    "bars = ax.bar(ANGLES, LENGTHS, color=COLORS, alpha=0.9, width=0.52, zorder=10)\n",
    "\n",
    "# little space between the bar and the label\n",
    "labelPadding = 20\n",
    "\n",
    "# Constants = parameters controling the plot layout:\n",
    "lowerLimit = -10\n",
    "\n",
    "# Compute max and min in the dataset\n",
    "max = top_rev['count'].max()\n",
    "\n",
    "# Let's compute heights: they are a conversion of each item value in those new coordinates\n",
    "# 0 in the dataset will be converted to the lowerLimit (-10)\n",
    "slope = (max - lowerLimit) / max\n",
    "heights = slope * top_rev['count'] + lowerLimit\n",
    "\n",
    "# Compute the width of each bar. In total we have Pi = 180°\n",
    "width = np.pi / len(top_rev.index)\n",
    "\n",
    "# Compute the angle each bar is centered on:\n",
    "indexes = list(range(1, len(top_rev.index)+1))\n",
    "angles = [element * width for element in indexes]\n",
    "angles\n",
    "\n",
    "# Add labels\n",
    "for bar, angle, height, label in zip(bars,ANGLES, heights, top_rev['Rating']):\n",
    "\n",
    "    # Labels are rotated. Rotation must be specified in degrees :(\n",
    "    rotation = np.rad2deg(angle)\n",
    "\n",
    "    # Flip some labels upside down\n",
    "    alignment = \"\"\n",
    "    if angle >= np.pi/2 and angle < 3*np.pi/2:\n",
    "        alignment = \"right\"\n",
    "        rotation = rotation + 180\n",
    "    else: \n",
    "        alignment = \"left\"\n",
    "\n",
    "    # Finally add the labels\n",
    "    ax.text(\n",
    "        x=angle, \n",
    "        y=labelPadding + bar.get_height(), \n",
    "        s=label, \n",
    "        ha=alignment, \n",
    "        va='center',\n",
    "        size=10,\n",
    "        rotation=rotation, \n",
    "        rotation_mode=\"anchor\") \n",
    "\n",
    "# remove grid\n",
    "plt.axis('off')\n",
    "\n",
    "cbaxes = inset_axes(\n",
    "    ax, \n",
    "    width=\"100%\", \n",
    "    height=\"100%\", \n",
    "    loc=\"center\",\n",
    "    bbox_to_anchor=(0.5, 0.43, 0.35, 0.01),\n",
    "    bbox_transform=fig.transFigure # Note it uses the figure.\n",
    ") \n",
    "\n",
    "# Create a new norm, which is discrete\n",
    "bounds = [0, 200, 400, 600, 800, 1000]\n",
    "norm = mpl.colors.BoundaryNorm(bounds, cmap.N)\n",
    "\n",
    "# Create the colorbar\n",
    "cb = fig.colorbar(\n",
    "    ScalarMappable(norm=norm, cmap=cmap), \n",
    "    cax=cbaxes, # Use the inset_axes created above\n",
    "    orientation = \"horizontal\",\n",
    "    ticks=[200, 400, 600, 800, 1000]\n",
    ")\n",
    "\n",
    "# Add annotations\n",
    "# Make some room for the title and subtitle above.\n",
    "fig.subplots_adjust(top=0.8)\n",
    "\n",
    "# Define title, subtitle, and caption\n",
    "title = \"\\nRating Proportion\"\n",
    "caption = \"(fig. 3) Data Visualization for Rating Proportion\"\n",
    "\n",
    "# And finally, add them to the plot.\n",
    "fig.text(0.5, 0.7, title, fontsize=25, weight=\"bold\", ha=\"left\", va=\"baseline\")\n",
    "fig.text(0.5, 0.37, caption, fontsize=10, ha=\"left\", va=\"baseline\")\n",
    "\n",
    "plt.show"
   ]
  },
  {
   "cell_type": "markdown",
   "id": "dbd3dea9",
   "metadata": {},
   "source": [
    "Based on fig.3, rating proportion is dominated with 5-star review with almost surpassing 1000 reviews. 5-star review means that we providing good services or products to customers. Whilst for 4-star review means customer/reviewer enjoyed our service but may point out some areas for improvement, so it is not a good thing. For 3-star to 1-star review, we can considered it as a bad review.\n",
    "\n",
    "Based on above explanation, we can categorize it :\n",
    "- Good Review = 5-star\n",
    "- Bad Review = 1-star to 4-star\n",
    "\n",
    "So we can see the real proportion between good and bad review"
   ]
  },
  {
   "cell_type": "code",
   "execution_count": 41,
   "id": "018c1562",
   "metadata": {},
   "outputs": [
    {
     "data": {
      "text/html": [
       "<div>\n",
       "<style scoped>\n",
       "    .dataframe tbody tr th:only-of-type {\n",
       "        vertical-align: middle;\n",
       "    }\n",
       "\n",
       "    .dataframe tbody tr th {\n",
       "        vertical-align: top;\n",
       "    }\n",
       "\n",
       "    .dataframe thead th {\n",
       "        text-align: right;\n",
       "    }\n",
       "</style>\n",
       "<table border=\"1\" class=\"dataframe\">\n",
       "  <thead>\n",
       "    <tr style=\"text-align: right;\">\n",
       "      <th></th>\n",
       "      <th>Review</th>\n",
       "      <th>Rating</th>\n",
       "      <th>Clean_Review</th>\n",
       "      <th>neg</th>\n",
       "      <th>neu</th>\n",
       "      <th>pos</th>\n",
       "      <th>compound</th>\n",
       "      <th>Chars</th>\n",
       "      <th>Words</th>\n",
       "      <th>doc2vec_vector_0</th>\n",
       "      <th>...</th>\n",
       "      <th>word_year</th>\n",
       "      <th>word_yell</th>\n",
       "      <th>word_yellow</th>\n",
       "      <th>word_yes</th>\n",
       "      <th>word_yogurt</th>\n",
       "      <th>word_york</th>\n",
       "      <th>word_you</th>\n",
       "      <th>word_young</th>\n",
       "      <th>word_yummy</th>\n",
       "      <th>posneg</th>\n",
       "    </tr>\n",
       "  </thead>\n",
       "  <tbody>\n",
       "    <tr>\n",
       "      <th>10726</th>\n",
       "      <td>not recommend hotel did reviewers actually sta...</td>\n",
       "      <td>1</td>\n",
       "      <td>recommend hotel reviewer stay hotel good thing...</td>\n",
       "      <td>0.267</td>\n",
       "      <td>0.637</td>\n",
       "      <td>0.096</td>\n",
       "      <td>-0.8384</td>\n",
       "      <td>312</td>\n",
       "      <td>48</td>\n",
       "      <td>0.007883</td>\n",
       "      <td>...</td>\n",
       "      <td>0.0</td>\n",
       "      <td>0.0</td>\n",
       "      <td>0.0</td>\n",
       "      <td>0.0</td>\n",
       "      <td>0.0</td>\n",
       "      <td>0.0</td>\n",
       "      <td>0.0</td>\n",
       "      <td>0.000000</td>\n",
       "      <td>0.0</td>\n",
       "      <td>0</td>\n",
       "    </tr>\n",
       "    <tr>\n",
       "      <th>14919</th>\n",
       "      <td>barcelona rocks \\tstayed hotel jazz girlfriend...</td>\n",
       "      <td>4</td>\n",
       "      <td>barcelona rock stay hotel jazz girlfriend nigh...</td>\n",
       "      <td>0.138</td>\n",
       "      <td>0.685</td>\n",
       "      <td>0.177</td>\n",
       "      <td>0.9497</td>\n",
       "      <td>2479</td>\n",
       "      <td>360</td>\n",
       "      <td>1.911419</td>\n",
       "      <td>...</td>\n",
       "      <td>0.0</td>\n",
       "      <td>0.0</td>\n",
       "      <td>0.0</td>\n",
       "      <td>0.0</td>\n",
       "      <td>0.0</td>\n",
       "      <td>0.0</td>\n",
       "      <td>0.0</td>\n",
       "      <td>0.000000</td>\n",
       "      <td>0.0</td>\n",
       "      <td>0</td>\n",
       "    </tr>\n",
       "    <tr>\n",
       "      <th>19098</th>\n",
       "      <td>ok hotel good location stayed night way beijin...</td>\n",
       "      <td>3</td>\n",
       "      <td>hotel good location stay night beijing rawa is...</td>\n",
       "      <td>0.000</td>\n",
       "      <td>0.572</td>\n",
       "      <td>0.428</td>\n",
       "      <td>0.9217</td>\n",
       "      <td>164</td>\n",
       "      <td>27</td>\n",
       "      <td>-0.125178</td>\n",
       "      <td>...</td>\n",
       "      <td>0.0</td>\n",
       "      <td>0.0</td>\n",
       "      <td>0.0</td>\n",
       "      <td>0.0</td>\n",
       "      <td>0.0</td>\n",
       "      <td>0.0</td>\n",
       "      <td>0.0</td>\n",
       "      <td>0.000000</td>\n",
       "      <td>0.0</td>\n",
       "      <td>0</td>\n",
       "    </tr>\n",
       "    <tr>\n",
       "      <th>2450</th>\n",
       "      <td>great service nice pool ok beach lovely ground...</td>\n",
       "      <td>4</td>\n",
       "      <td>great service nice pool beach lovely ground sm...</td>\n",
       "      <td>0.070</td>\n",
       "      <td>0.644</td>\n",
       "      <td>0.286</td>\n",
       "      <td>0.9978</td>\n",
       "      <td>2059</td>\n",
       "      <td>320</td>\n",
       "      <td>0.200774</td>\n",
       "      <td>...</td>\n",
       "      <td>0.0</td>\n",
       "      <td>0.0</td>\n",
       "      <td>0.0</td>\n",
       "      <td>0.0</td>\n",
       "      <td>0.0</td>\n",
       "      <td>0.0</td>\n",
       "      <td>0.0</td>\n",
       "      <td>0.053745</td>\n",
       "      <td>0.0</td>\n",
       "      <td>0</td>\n",
       "    </tr>\n",
       "    <tr>\n",
       "      <th>960</th>\n",
       "      <td>surprising treat spent weekend july 15/16 2006...</td>\n",
       "      <td>5</td>\n",
       "      <td>surprising treat spend weekend july cartwright...</td>\n",
       "      <td>0.059</td>\n",
       "      <td>0.639</td>\n",
       "      <td>0.302</td>\n",
       "      <td>0.9801</td>\n",
       "      <td>689</td>\n",
       "      <td>98</td>\n",
       "      <td>0.389365</td>\n",
       "      <td>...</td>\n",
       "      <td>0.0</td>\n",
       "      <td>0.0</td>\n",
       "      <td>0.0</td>\n",
       "      <td>0.0</td>\n",
       "      <td>0.0</td>\n",
       "      <td>0.0</td>\n",
       "      <td>0.0</td>\n",
       "      <td>0.000000</td>\n",
       "      <td>0.0</td>\n",
       "      <td>1</td>\n",
       "    </tr>\n",
       "  </tbody>\n",
       "</table>\n",
       "<p>5 rows × 1996 columns</p>\n",
       "</div>"
      ],
      "text/plain": [
       "                                                  Review  Rating  \\\n",
       "10726  not recommend hotel did reviewers actually sta...       1   \n",
       "14919  barcelona rocks \\tstayed hotel jazz girlfriend...       4   \n",
       "19098  ok hotel good location stayed night way beijin...       3   \n",
       "2450   great service nice pool ok beach lovely ground...       4   \n",
       "960    surprising treat spent weekend july 15/16 2006...       5   \n",
       "\n",
       "                                            Clean_Review    neg    neu    pos  \\\n",
       "10726  recommend hotel reviewer stay hotel good thing...  0.267  0.637  0.096   \n",
       "14919  barcelona rock stay hotel jazz girlfriend nigh...  0.138  0.685  0.177   \n",
       "19098  hotel good location stay night beijing rawa is...  0.000  0.572  0.428   \n",
       "2450   great service nice pool beach lovely ground sm...  0.070  0.644  0.286   \n",
       "960    surprising treat spend weekend july cartwright...  0.059  0.639  0.302   \n",
       "\n",
       "       compound  Chars  Words  doc2vec_vector_0  ...  word_year  word_yell  \\\n",
       "10726   -0.8384    312     48          0.007883  ...        0.0        0.0   \n",
       "14919    0.9497   2479    360          1.911419  ...        0.0        0.0   \n",
       "19098    0.9217    164     27         -0.125178  ...        0.0        0.0   \n",
       "2450     0.9978   2059    320          0.200774  ...        0.0        0.0   \n",
       "960      0.9801    689     98          0.389365  ...        0.0        0.0   \n",
       "\n",
       "       word_yellow  word_yes  word_yogurt  word_york  word_you  word_young  \\\n",
       "10726          0.0       0.0          0.0        0.0       0.0    0.000000   \n",
       "14919          0.0       0.0          0.0        0.0       0.0    0.000000   \n",
       "19098          0.0       0.0          0.0        0.0       0.0    0.000000   \n",
       "2450           0.0       0.0          0.0        0.0       0.0    0.053745   \n",
       "960            0.0       0.0          0.0        0.0       0.0    0.000000   \n",
       "\n",
       "       word_yummy  posneg  \n",
       "10726         0.0       0  \n",
       "14919         0.0       0  \n",
       "19098         0.0       0  \n",
       "2450          0.0       0  \n",
       "960           0.0       1  \n",
       "\n",
       "[5 rows x 1996 columns]"
      ]
     },
     "execution_count": 41,
     "metadata": {},
     "output_type": "execute_result"
    }
   ],
   "source": [
    "df.head()"
   ]
  },
  {
   "cell_type": "code",
   "execution_count": 42,
   "id": "cc982e4b",
   "metadata": {},
   "outputs": [
    {
     "data": {
      "text/html": [
       "<div>\n",
       "<style scoped>\n",
       "    .dataframe tbody tr th:only-of-type {\n",
       "        vertical-align: middle;\n",
       "    }\n",
       "\n",
       "    .dataframe tbody tr th {\n",
       "        vertical-align: top;\n",
       "    }\n",
       "\n",
       "    .dataframe thead th {\n",
       "        text-align: right;\n",
       "    }\n",
       "</style>\n",
       "<table border=\"1\" class=\"dataframe\">\n",
       "  <thead>\n",
       "    <tr style=\"text-align: right;\">\n",
       "      <th></th>\n",
       "      <th>posneg</th>\n",
       "      <th>count</th>\n",
       "    </tr>\n",
       "  </thead>\n",
       "  <tbody>\n",
       "    <tr>\n",
       "      <th>1</th>\n",
       "      <td>1</td>\n",
       "      <td>910</td>\n",
       "    </tr>\n",
       "    <tr>\n",
       "      <th>0</th>\n",
       "      <td>0</td>\n",
       "      <td>1139</td>\n",
       "    </tr>\n",
       "  </tbody>\n",
       "</table>\n",
       "</div>"
      ],
      "text/plain": [
       "   posneg  count\n",
       "1       1    910\n",
       "0       0   1139"
      ]
     },
     "execution_count": 42,
     "metadata": {},
     "output_type": "execute_result"
    }
   ],
   "source": [
    "# Create new dataframe to count the amount of Bad and Good Reviews\n",
    "bad_good = (df.groupby('posneg') \n",
    "            .agg(count=('posneg', 'count'))\n",
    "            .reset_index()\n",
    "            .sort_values('count',ascending=True)\n",
    "            )\n",
    "bad_good"
   ]
  },
  {
   "cell_type": "code",
   "execution_count": 43,
   "id": "3d4e2262",
   "metadata": {},
   "outputs": [],
   "source": [
    "# Define data\n",
    "names = bad_good['posneg']\n",
    "size = bad_good['count']"
   ]
  },
  {
   "cell_type": "code",
   "execution_count": 44,
   "id": "c1aec35f",
   "metadata": {},
   "outputs": [
    {
     "data": {
      "image/png": "[encoded data removed]",
      "text/plain": [
       "<Figure size 640x480 with 1 Axes>"
      ]
     },
     "metadata": {},
     "output_type": "display_data"
    }
   ],
   "source": [
    "# Create a circle at the center of the plot\n",
    "my_circle = plt.Circle( (0,0), 0.7, color='white')\n",
    "\n",
    "# Custom wedges\n",
    "plt.pie(size, labels=names, wedgeprops = { 'linewidth' : 7, 'edgecolor' : 'white' }, colors=['#edafb8','#4a5759'])\n",
    "p = plt.gcf()\n",
    "p.gca().add_artist(my_circle)\n",
    "plt.show()\n",
    "\n",
    "# Show the graph\n",
    "plt.show()"
   ]
  },
  {
   "cell_type": "markdown",
   "id": "d2f40203",
   "metadata": {},
   "source": [
    "Based on above chart, the proportion between **Good** and **Bad** reviews are almost the same, but still the total amount of **Bad** Review is higher than the **Good** one."
   ]
  },
  {
   "cell_type": "code",
   "execution_count": 45,
   "id": "9cb32126",
   "metadata": {},
   "outputs": [
    {
     "data": {
      "text/html": [
       "<div>\n",
       "<style scoped>\n",
       "    .dataframe tbody tr th:only-of-type {\n",
       "        vertical-align: middle;\n",
       "    }\n",
       "\n",
       "    .dataframe tbody tr th {\n",
       "        vertical-align: top;\n",
       "    }\n",
       "\n",
       "    .dataframe thead th {\n",
       "        text-align: right;\n",
       "    }\n",
       "</style>\n",
       "<table border=\"1\" class=\"dataframe\">\n",
       "  <thead>\n",
       "    <tr style=\"text-align: right;\">\n",
       "      <th></th>\n",
       "      <th>Clean_Review</th>\n",
       "      <th>pos</th>\n",
       "    </tr>\n",
       "  </thead>\n",
       "  <tbody>\n",
       "    <tr>\n",
       "      <th>4073</th>\n",
       "      <td>hotel great hotel great money clean good restu...</td>\n",
       "      <td>0.799</td>\n",
       "    </tr>\n",
       "    <tr>\n",
       "      <th>2346</th>\n",
       "      <td>hotel hotel gorgeous beautiful clean spacious ...</td>\n",
       "      <td>0.763</td>\n",
       "    </tr>\n",
       "    <tr>\n",
       "      <th>12988</th>\n",
       "      <td>great stayed clarendon great stay employee con...</td>\n",
       "      <td>0.746</td>\n",
       "    </tr>\n",
       "    <tr>\n",
       "      <th>14475</th>\n",
       "      <td>great star hotel great room pretty small clean...</td>\n",
       "      <td>0.741</td>\n",
       "    </tr>\n",
       "    <tr>\n",
       "      <th>5566</th>\n",
       "      <td>excellent great staff glad choose hotel conven...</td>\n",
       "      <td>0.738</td>\n",
       "    </tr>\n",
       "    <tr>\n",
       "      <th>18668</th>\n",
       "      <td>fabulous hotel great hotel room amaze large gr...</td>\n",
       "      <td>0.733</td>\n",
       "    </tr>\n",
       "    <tr>\n",
       "      <th>8937</th>\n",
       "      <td>excellent great hotel recommend couple perfect...</td>\n",
       "      <td>0.721</td>\n",
       "    </tr>\n",
       "    <tr>\n",
       "      <th>11753</th>\n",
       "      <td>adore place clean spacious room extremely nice...</td>\n",
       "      <td>0.717</td>\n",
       "    </tr>\n",
       "    <tr>\n",
       "      <th>8122</th>\n",
       "      <td>love regina perfect great location lovely clea...</td>\n",
       "      <td>0.711</td>\n",
       "    </tr>\n",
       "    <tr>\n",
       "      <th>12044</th>\n",
       "      <td>lovely room great location stay lovely room sp...</td>\n",
       "      <td>0.709</td>\n",
       "    </tr>\n",
       "  </tbody>\n",
       "</table>\n",
       "</div>"
      ],
      "text/plain": [
       "                                            Clean_Review    pos\n",
       "4073   hotel great hotel great money clean good restu...  0.799\n",
       "2346   hotel hotel gorgeous beautiful clean spacious ...  0.763\n",
       "12988  great stayed clarendon great stay employee con...  0.746\n",
       "14475  great star hotel great room pretty small clean...  0.741\n",
       "5566   excellent great staff glad choose hotel conven...  0.738\n",
       "18668  fabulous hotel great hotel room amaze large gr...  0.733\n",
       "8937   excellent great hotel recommend couple perfect...  0.721\n",
       "11753  adore place clean spacious room extremely nice...  0.717\n",
       "8122   love regina perfect great location lovely clea...  0.711\n",
       "12044  lovely room great location stay lovely room sp...  0.709"
      ]
     },
     "execution_count": 45,
     "metadata": {},
     "output_type": "execute_result"
    }
   ],
   "source": [
    "# Top 10 positive reviews\n",
    "\n",
    "df[df['Words'] >= 5].sort_values('pos', ascending = False)[['Clean_Review', 'pos']].head(10)"
   ]
  },
  {
   "cell_type": "code",
   "execution_count": 46,
   "id": "75c2562a",
   "metadata": {},
   "outputs": [
    {
     "data": {
      "text/html": [
       "<div>\n",
       "<style scoped>\n",
       "    .dataframe tbody tr th:only-of-type {\n",
       "        vertical-align: middle;\n",
       "    }\n",
       "\n",
       "    .dataframe tbody tr th {\n",
       "        vertical-align: top;\n",
       "    }\n",
       "\n",
       "    .dataframe thead th {\n",
       "        text-align: right;\n",
       "    }\n",
       "</style>\n",
       "<table border=\"1\" class=\"dataframe\">\n",
       "  <thead>\n",
       "    <tr style=\"text-align: right;\">\n",
       "      <th></th>\n",
       "      <th>Clean_Review</th>\n",
       "      <th>neg</th>\n",
       "    </tr>\n",
       "  </thead>\n",
       "  <tbody>\n",
       "    <tr>\n",
       "      <th>9514</th>\n",
       "      <td>bad hotel awful place dirty room rude staff de...</td>\n",
       "      <td>0.646</td>\n",
       "    </tr>\n",
       "    <tr>\n",
       "      <th>19891</th>\n",
       "      <td>bad bad bad hotel verry bad pls stay close ram...</td>\n",
       "      <td>0.645</td>\n",
       "    </tr>\n",
       "    <tr>\n",
       "      <th>42</th>\n",
       "      <td>warwick bad good review warwick shock staff ru...</td>\n",
       "      <td>0.458</td>\n",
       "    </tr>\n",
       "    <tr>\n",
       "      <th>14744</th>\n",
       "      <td>stay bad resort stay day day long food poison ...</td>\n",
       "      <td>0.447</td>\n",
       "    </tr>\n",
       "    <tr>\n",
       "      <th>12123</th>\n",
       "      <td>awful hotel star hotel star room big dirty wal...</td>\n",
       "      <td>0.431</td>\n",
       "    </tr>\n",
       "    <tr>\n",
       "      <th>10952</th>\n",
       "      <td>hotel star hell star venue depress calamity ar...</td>\n",
       "      <td>0.431</td>\n",
       "    </tr>\n",
       "    <tr>\n",
       "      <th>2408</th>\n",
       "      <td>horrify stayed hotel october filthy terrible f...</td>\n",
       "      <td>0.424</td>\n",
       "    </tr>\n",
       "    <tr>\n",
       "      <th>6433</th>\n",
       "      <td>disappointing disappointed stay benjamin origi...</td>\n",
       "      <td>0.399</td>\n",
       "    </tr>\n",
       "    <tr>\n",
       "      <th>3979</th>\n",
       "      <td>place pretty bad room damp dirty water line ru...</td>\n",
       "      <td>0.396</td>\n",
       "    </tr>\n",
       "    <tr>\n",
       "      <th>3470</th>\n",
       "      <td>bad spa day spend huge family thing steal room...</td>\n",
       "      <td>0.391</td>\n",
       "    </tr>\n",
       "  </tbody>\n",
       "</table>\n",
       "</div>"
      ],
      "text/plain": [
       "                                            Clean_Review    neg\n",
       "9514   bad hotel awful place dirty room rude staff de...  0.646\n",
       "19891  bad bad bad hotel verry bad pls stay close ram...  0.645\n",
       "42     warwick bad good review warwick shock staff ru...  0.458\n",
       "14744  stay bad resort stay day day long food poison ...  0.447\n",
       "12123  awful hotel star hotel star room big dirty wal...  0.431\n",
       "10952  hotel star hell star venue depress calamity ar...  0.431\n",
       "2408   horrify stayed hotel october filthy terrible f...  0.424\n",
       "6433   disappointing disappointed stay benjamin origi...  0.399\n",
       "3979   place pretty bad room damp dirty water line ru...  0.396\n",
       "3470   bad spa day spend huge family thing steal room...  0.391"
      ]
     },
     "execution_count": 46,
     "metadata": {},
     "output_type": "execute_result"
    }
   ],
   "source": [
    "# Top 10 negative reviews\n",
    "\n",
    "df[df['Words'] >= 5].sort_values('neg', \n",
    "                                 ascending = False)[['Clean_Review', \n",
    "                                                     'neg']].head(10)"
   ]
  },
  {
   "cell_type": "markdown",
   "id": "ded083da",
   "metadata": {},
   "source": [
    "**EXPLANATION:**\n",
    "\n",
    "Obviously for **Positive Reviews**, dominated with words that show high customer satisfaction, such as `great`, `excellent`, `fabulous`, and `adore`. While **Negative Reviews** dominated with words that show low customer satisfaction, such as `bad`, `horrify`, `awful`, and `disappointing`."
   ]
  },
  {
   "cell_type": "markdown",
   "id": "e77d5a5d",
   "metadata": {},
   "source": [
    "## MODELING"
   ]
  },
  {
   "cell_type": "code",
   "execution_count": 47,
   "id": "70750e0f",
   "metadata": {},
   "outputs": [
    {
     "data": {
      "text/html": [
       "<div>\n",
       "<style scoped>\n",
       "    .dataframe tbody tr th:only-of-type {\n",
       "        vertical-align: middle;\n",
       "    }\n",
       "\n",
       "    .dataframe tbody tr th {\n",
       "        vertical-align: top;\n",
       "    }\n",
       "\n",
       "    .dataframe thead th {\n",
       "        text-align: right;\n",
       "    }\n",
       "</style>\n",
       "<table border=\"1\" class=\"dataframe\">\n",
       "  <thead>\n",
       "    <tr style=\"text-align: right;\">\n",
       "      <th></th>\n",
       "      <th>Review</th>\n",
       "      <th>Rating</th>\n",
       "      <th>Clean_Review</th>\n",
       "      <th>neg</th>\n",
       "      <th>neu</th>\n",
       "      <th>pos</th>\n",
       "      <th>compound</th>\n",
       "      <th>Chars</th>\n",
       "      <th>Words</th>\n",
       "      <th>doc2vec_vector_0</th>\n",
       "      <th>...</th>\n",
       "      <th>word_year</th>\n",
       "      <th>word_yell</th>\n",
       "      <th>word_yellow</th>\n",
       "      <th>word_yes</th>\n",
       "      <th>word_yogurt</th>\n",
       "      <th>word_york</th>\n",
       "      <th>word_you</th>\n",
       "      <th>word_young</th>\n",
       "      <th>word_yummy</th>\n",
       "      <th>posneg</th>\n",
       "    </tr>\n",
       "  </thead>\n",
       "  <tbody>\n",
       "    <tr>\n",
       "      <th>10726</th>\n",
       "      <td>not recommend hotel did reviewers actually sta...</td>\n",
       "      <td>1</td>\n",
       "      <td>recommend hotel reviewer stay hotel good thing...</td>\n",
       "      <td>0.267</td>\n",
       "      <td>0.637</td>\n",
       "      <td>0.096</td>\n",
       "      <td>-0.8384</td>\n",
       "      <td>312</td>\n",
       "      <td>48</td>\n",
       "      <td>0.007883</td>\n",
       "      <td>...</td>\n",
       "      <td>0.0</td>\n",
       "      <td>0.0</td>\n",
       "      <td>0.0</td>\n",
       "      <td>0.0</td>\n",
       "      <td>0.0</td>\n",
       "      <td>0.0</td>\n",
       "      <td>0.0</td>\n",
       "      <td>0.000000</td>\n",
       "      <td>0.0</td>\n",
       "      <td>0</td>\n",
       "    </tr>\n",
       "    <tr>\n",
       "      <th>14919</th>\n",
       "      <td>barcelona rocks \\tstayed hotel jazz girlfriend...</td>\n",
       "      <td>4</td>\n",
       "      <td>barcelona rock stay hotel jazz girlfriend nigh...</td>\n",
       "      <td>0.138</td>\n",
       "      <td>0.685</td>\n",
       "      <td>0.177</td>\n",
       "      <td>0.9497</td>\n",
       "      <td>2479</td>\n",
       "      <td>360</td>\n",
       "      <td>1.911419</td>\n",
       "      <td>...</td>\n",
       "      <td>0.0</td>\n",
       "      <td>0.0</td>\n",
       "      <td>0.0</td>\n",
       "      <td>0.0</td>\n",
       "      <td>0.0</td>\n",
       "      <td>0.0</td>\n",
       "      <td>0.0</td>\n",
       "      <td>0.000000</td>\n",
       "      <td>0.0</td>\n",
       "      <td>0</td>\n",
       "    </tr>\n",
       "    <tr>\n",
       "      <th>19098</th>\n",
       "      <td>ok hotel good location stayed night way beijin...</td>\n",
       "      <td>3</td>\n",
       "      <td>hotel good location stay night beijing rawa is...</td>\n",
       "      <td>0.000</td>\n",
       "      <td>0.572</td>\n",
       "      <td>0.428</td>\n",
       "      <td>0.9217</td>\n",
       "      <td>164</td>\n",
       "      <td>27</td>\n",
       "      <td>-0.125178</td>\n",
       "      <td>...</td>\n",
       "      <td>0.0</td>\n",
       "      <td>0.0</td>\n",
       "      <td>0.0</td>\n",
       "      <td>0.0</td>\n",
       "      <td>0.0</td>\n",
       "      <td>0.0</td>\n",
       "      <td>0.0</td>\n",
       "      <td>0.000000</td>\n",
       "      <td>0.0</td>\n",
       "      <td>0</td>\n",
       "    </tr>\n",
       "    <tr>\n",
       "      <th>2450</th>\n",
       "      <td>great service nice pool ok beach lovely ground...</td>\n",
       "      <td>4</td>\n",
       "      <td>great service nice pool beach lovely ground sm...</td>\n",
       "      <td>0.070</td>\n",
       "      <td>0.644</td>\n",
       "      <td>0.286</td>\n",
       "      <td>0.9978</td>\n",
       "      <td>2059</td>\n",
       "      <td>320</td>\n",
       "      <td>0.200774</td>\n",
       "      <td>...</td>\n",
       "      <td>0.0</td>\n",
       "      <td>0.0</td>\n",
       "      <td>0.0</td>\n",
       "      <td>0.0</td>\n",
       "      <td>0.0</td>\n",
       "      <td>0.0</td>\n",
       "      <td>0.0</td>\n",
       "      <td>0.053745</td>\n",
       "      <td>0.0</td>\n",
       "      <td>0</td>\n",
       "    </tr>\n",
       "    <tr>\n",
       "      <th>960</th>\n",
       "      <td>surprising treat spent weekend july 15/16 2006...</td>\n",
       "      <td>5</td>\n",
       "      <td>surprising treat spend weekend july cartwright...</td>\n",
       "      <td>0.059</td>\n",
       "      <td>0.639</td>\n",
       "      <td>0.302</td>\n",
       "      <td>0.9801</td>\n",
       "      <td>689</td>\n",
       "      <td>98</td>\n",
       "      <td>0.389365</td>\n",
       "      <td>...</td>\n",
       "      <td>0.0</td>\n",
       "      <td>0.0</td>\n",
       "      <td>0.0</td>\n",
       "      <td>0.0</td>\n",
       "      <td>0.0</td>\n",
       "      <td>0.0</td>\n",
       "      <td>0.0</td>\n",
       "      <td>0.000000</td>\n",
       "      <td>0.0</td>\n",
       "      <td>1</td>\n",
       "    </tr>\n",
       "  </tbody>\n",
       "</table>\n",
       "<p>5 rows × 1996 columns</p>\n",
       "</div>"
      ],
      "text/plain": [
       "                                                  Review  Rating  \\\n",
       "10726  not recommend hotel did reviewers actually sta...       1   \n",
       "14919  barcelona rocks \\tstayed hotel jazz girlfriend...       4   \n",
       "19098  ok hotel good location stayed night way beijin...       3   \n",
       "2450   great service nice pool ok beach lovely ground...       4   \n",
       "960    surprising treat spent weekend july 15/16 2006...       5   \n",
       "\n",
       "                                            Clean_Review    neg    neu    pos  \\\n",
       "10726  recommend hotel reviewer stay hotel good thing...  0.267  0.637  0.096   \n",
       "14919  barcelona rock stay hotel jazz girlfriend nigh...  0.138  0.685  0.177   \n",
       "19098  hotel good location stay night beijing rawa is...  0.000  0.572  0.428   \n",
       "2450   great service nice pool beach lovely ground sm...  0.070  0.644  0.286   \n",
       "960    surprising treat spend weekend july cartwright...  0.059  0.639  0.302   \n",
       "\n",
       "       compound  Chars  Words  doc2vec_vector_0  ...  word_year  word_yell  \\\n",
       "10726   -0.8384    312     48          0.007883  ...        0.0        0.0   \n",
       "14919    0.9497   2479    360          1.911419  ...        0.0        0.0   \n",
       "19098    0.9217    164     27         -0.125178  ...        0.0        0.0   \n",
       "2450     0.9978   2059    320          0.200774  ...        0.0        0.0   \n",
       "960      0.9801    689     98          0.389365  ...        0.0        0.0   \n",
       "\n",
       "       word_yellow  word_yes  word_yogurt  word_york  word_you  word_young  \\\n",
       "10726          0.0       0.0          0.0        0.0       0.0    0.000000   \n",
       "14919          0.0       0.0          0.0        0.0       0.0    0.000000   \n",
       "19098          0.0       0.0          0.0        0.0       0.0    0.000000   \n",
       "2450           0.0       0.0          0.0        0.0       0.0    0.053745   \n",
       "960            0.0       0.0          0.0        0.0       0.0    0.000000   \n",
       "\n",
       "       word_yummy  posneg  \n",
       "10726         0.0       0  \n",
       "14919         0.0       0  \n",
       "19098         0.0       0  \n",
       "2450          0.0       0  \n",
       "960           0.0       1  \n",
       "\n",
       "[5 rows x 1996 columns]"
      ]
     },
     "execution_count": 47,
     "metadata": {},
     "output_type": "execute_result"
    }
   ],
   "source": [
    "df.head()"
   ]
  },
  {
   "cell_type": "code",
   "execution_count": 48,
   "id": "41963005",
   "metadata": {
    "scrolled": false
   },
   "outputs": [
    {
     "name": "stdout",
     "output_type": "stream",
     "text": [
      "<class 'pandas.core.frame.DataFrame'>\n",
      "Index: 2049 entries, 10726 to 5934\n",
      "Columns: 1996 entries, Review to posneg\n",
      "dtypes: float32(5), float64(1985), int64(4), object(2)\n",
      "memory usage: 31.2+ MB\n"
     ]
    }
   ],
   "source": [
    "df.info()"
   ]
  },
  {
   "cell_type": "code",
   "execution_count": 49,
   "id": "c66ebb5e",
   "metadata": {},
   "outputs": [],
   "source": [
    "# drop the Review and Clean_Review Column, because we won't use it\n",
    "\n",
    "df = df.drop(['Review', 'Clean_Review'], axis = 1)"
   ]
  },
  {
   "cell_type": "code",
   "execution_count": 50,
   "id": "13272dd3",
   "metadata": {},
   "outputs": [
    {
     "data": {
      "text/html": [
       "<div>\n",
       "<style scoped>\n",
       "    .dataframe tbody tr th:only-of-type {\n",
       "        vertical-align: middle;\n",
       "    }\n",
       "\n",
       "    .dataframe tbody tr th {\n",
       "        vertical-align: top;\n",
       "    }\n",
       "\n",
       "    .dataframe thead th {\n",
       "        text-align: right;\n",
       "    }\n",
       "</style>\n",
       "<table border=\"1\" class=\"dataframe\">\n",
       "  <thead>\n",
       "    <tr style=\"text-align: right;\">\n",
       "      <th></th>\n",
       "      <th>value</th>\n",
       "      <th>count</th>\n",
       "      <th>percentage</th>\n",
       "    </tr>\n",
       "  </thead>\n",
       "  <tbody>\n",
       "    <tr>\n",
       "      <th>0</th>\n",
       "      <td>0</td>\n",
       "      <td>1139</td>\n",
       "      <td>0.0</td>\n",
       "    </tr>\n",
       "    <tr>\n",
       "      <th>1</th>\n",
       "      <td>1</td>\n",
       "      <td>910</td>\n",
       "      <td>100.0</td>\n",
       "    </tr>\n",
       "  </tbody>\n",
       "</table>\n",
       "</div>"
      ],
      "text/plain": [
       "   value  count  percentage\n",
       "0      0   1139         0.0\n",
       "1      1    910       100.0"
      ]
     },
     "execution_count": 50,
     "metadata": {},
     "output_type": "execute_result"
    }
   ],
   "source": [
    "target = df['posneg'].value_counts().reset_index()\n",
    "target.rename(columns={'index':'posneg','posneg':'value'}, inplace=True)\n",
    "target['percentage'] = round((target['value']/target['value'].sum())*100,2)\n",
    "target"
   ]
  },
  {
   "cell_type": "code",
   "execution_count": 51,
   "id": "864d3a3d",
   "metadata": {},
   "outputs": [],
   "source": [
    "# Split dataset\n",
    "\n",
    "X = df.drop(['posneg'],axis = 1)\n",
    "Y = df['posneg']"
   ]
  },
  {
   "cell_type": "markdown",
   "id": "9c45d2a1",
   "metadata": {},
   "source": [
    "### Random Forest\n",
    "\n",
    "Random forest is a commonly-used machine learning algorithm trademarked by Leo Breiman and Adele Cutler, which combines the output of multiple decision trees to reach a single result. Its ease of use and flexibility have fueled its adoption, as it handles both classification and regression problems.\n",
    "\n",
    "It can perform both regression and classification tasks. A random forest produces good predictions that can be understood easily. It can handle large datasets efficiently. The random forest algorithm provides a higher level of accuracy in predicting outcomes over the decision tree algorithm.\n",
    "\n",
    "[source](https://www.ibm.com/id-en/topics/random-forest#:~:text=Random%20forest%20is%20a%20commonly,both%20classification%20and%20regression%20problems) [source](https://www.section.io/engineering-education/introduction-to-random-forest-in-machine-learning/#:~:text=Advantages%20of%20random%20forest,over%20the%20decision%20tree%20algorithm.)"
   ]
  },
  {
   "cell_type": "code",
   "execution_count": 52,
   "id": "a1aa77be",
   "metadata": {},
   "outputs": [],
   "source": [
    "# split the dataset (train/test)\n",
    "\n",
    "X_train_rf, X_test_rf, y_train_rf, y_test_rf = train_test_split(X, \n",
    "                                                    Y, test_size=0.25, \n",
    "                                                    random_state=42)"
   ]
  },
  {
   "cell_type": "code",
   "execution_count": 53,
   "id": "5870a1b5",
   "metadata": {},
   "outputs": [],
   "source": [
    "# train the model\n",
    "\n",
    "model = RandomForestClassifier(random_state=42)\n",
    "model.fit(X_train_rf, y_train_rf)\n",
    "preds = model.predict(X_test_rf)"
   ]
  },
  {
   "cell_type": "code",
   "execution_count": 54,
   "id": "c4633d2b",
   "metadata": {},
   "outputs": [],
   "source": [
    "classification_decision1 = (classification_report(y_test_rf, model.predict(X_test_rf)))"
   ]
  },
  {
   "cell_type": "code",
   "execution_count": 55,
   "id": "05a30c22",
   "metadata": {},
   "outputs": [
    {
     "name": "stdout",
     "output_type": "stream",
     "text": [
      "              precision    recall  f1-score   support\n",
      "\n",
      "           0       0.99      1.00      0.99       288\n",
      "           1       1.00      0.98      0.99       225\n",
      "\n",
      "    accuracy                           0.99       513\n",
      "   macro avg       0.99      0.99      0.99       513\n",
      "weighted avg       0.99      0.99      0.99       513\n",
      "\n"
     ]
    }
   ],
   "source": [
    "print(classification_decision1)"
   ]
  },
  {
   "cell_type": "code",
   "execution_count": 63,
   "id": "358772e7",
   "metadata": {},
   "outputs": [
    {
     "data": {
      "image/png": "[encoded data removed]",
      "text/plain": [
       "<Figure size 640x480 with 2 Axes>"
      ]
     },
     "metadata": {},
     "output_type": "display_data"
    }
   ],
   "source": [
    "from sklearn.metrics import confusion_matrix, ConfusionMatrixDisplay\n",
    "import matplotlib.pyplot as plt\n",
    "\n",
    "# Assuming you have already trained and evaluated your model, and have the predictions and ground truth labels\n",
    "predictions = model.predict(X_test_rf)\n",
    "cm = confusion_matrix(y_test_rf, predictions)\n",
    "\n",
    "# Create a ConfusionMatrixDisplay object\n",
    "disp = ConfusionMatrixDisplay(confusion_matrix=cm)\n",
    "\n",
    "# Plot the confusion matrix\n",
    "disp.plot(cmap=plt.cm.Blues)\n",
    "\n",
    "# Add labels, title, etc.\n",
    "plt.title('Confusion Matrix')\n",
    "plt.xlabel('Predicted label')\n",
    "plt.ylabel('True label')\n",
    "plt.show()\n"
   ]
  },
  {
   "cell_type": "markdown",
   "id": "8fad7781",
   "metadata": {},
   "source": [
    "#### Conclusion\n",
    "\n",
    "Random Forest modeling able to achieve **97%** precision for negative reviews, it means that **97%** negative reviews are correctly classified as negative reviews, while **3%** of negative reviews are classified incorrectly. For positive reviews, it achieved **100%**, it means that all positive reviews are classified as positive reviews and none of the positive reviews are classified incorrectly.\n",
    "\n",
    "Recall value or True Positive Rate (TPR), predicted how much a machine learning model correctly identifies all relevant cases withing the dataset. In this case, our model able to predicted that **100%** from the dataset are **True Positive** for negative reviews, and **96%** from the dataset are **True Positive** for positive reviews.\n",
    "\n",
    "F1-score value measures how many times the model made a correct prediction accurately. Our logistic regression model able to predict **99%** correctly for negative reviews and **98%** correctly for positive reviews."
   ]
  },
  {
   "cell_type": "markdown",
   "id": "e2cb231d",
   "metadata": {},
   "source": [
    "### Logistic Regression\n",
    "\n",
    "Logistic regression is a statistical analysis method to predict a binary outcome, such as yes or no, based on prior observations of a data set. A logistic regression model predicts a dependent data variable by analyzing the relationship between one or more existing independent variables. Here we are using logistic regression for the effective accuracy and the prediction of the data set.\n",
    "\n",
    "[source](https://www.techtarget.com/searchbusinessanalytics/definition/logistic-regression#:~:text=Logistic%20regression%20is%20a%20statistical,or%20more%20existing%20independent%20variables.) [source](https://www.researchgate.net/publication/353514662_Sentimental_Analysis_using_Logistic_Regression#:~:text=Sentiment%20analysis%20has%20emerged%20as,prediction%20of%20the%20data%20set.)"
   ]
  },
  {
   "cell_type": "code",
   "execution_count": 64,
   "id": "e3705d5a",
   "metadata": {},
   "outputs": [],
   "source": [
    "X_train_lr, X_test_lr,y_train_lr,y_test_lr = train_test_split(X,\n",
    "                                                Y,\n",
    "                                                test_size = 0.3,\n",
    "                                                random_state = 42)"
   ]
  },
  {
   "cell_type": "code",
   "execution_count": 65,
   "id": "94b6f277",
   "metadata": {},
   "outputs": [
    {
     "name": "stderr",
     "output_type": "stream",
     "text": [
      "C:\\Users\\hp\\AppData\\Local\\Packages\\PythonSoftwareFoundation.Python.3.11_qbz5n2kfra8p0\\LocalCache\\local-packages\\Python311\\site-packages\\sklearn\\linear_model\\_logistic.py:458: ConvergenceWarning: lbfgs failed to converge (status=1):\n",
      "STOP: TOTAL NO. of ITERATIONS REACHED LIMIT.\n",
      "\n",
      "Increase the number of iterations (max_iter) or scale the data as shown in:\n",
      "    https://scikit-learn.org/stable/modules/preprocessing.html\n",
      "Please also refer to the documentation for alternative solver options:\n",
      "    https://scikit-learn.org/stable/modules/linear_model.html#logistic-regression\n",
      "  n_iter_i = _check_optimize_result(\n"
     ]
    },
    {
     "data": {
      "text/html": [
       "<style>#sk-container-id-1 {color: black;background-color: white;}#sk-container-id-1 pre{padding: 0;}#sk-container-id-1 div.sk-toggleable {background-color: white;}#sk-container-id-1 label.sk-toggleable__label {cursor: pointer;display: block;width: 100%;margin-bottom: 0;padding: 0.3em;box-sizing: border-box;text-align: center;}#sk-container-id-1 label.sk-toggleable__label-arrow:before {content: \"▸\";float: left;margin-right: 0.25em;color: #696969;}#sk-container-id-1 label.sk-toggleable__label-arrow:hover:before {color: black;}#sk-container-id-1 div.sk-estimator:hover label.sk-toggleable__label-arrow:before {color: black;}#sk-container-id-1 div.sk-toggleable__content {max-height: 0;max-width: 0;overflow: hidden;text-align: left;background-color: #f0f8ff;}#sk-container-id-1 div.sk-toggleable__content pre {margin: 0.2em;color: black;border-radius: 0.25em;background-color: #f0f8ff;}#sk-container-id-1 input.sk-toggleable__control:checked~div.sk-toggleable__content {max-height: 200px;max-width: 100%;overflow: auto;}#sk-container-id-1 input.sk-toggleable__control:checked~label.sk-toggleable__label-arrow:before {content: \"▾\";}#sk-container-id-1 div.sk-estimator input.sk-toggleable__control:checked~label.sk-toggleable__label {background-color: #d4ebff;}#sk-container-id-1 div.sk-label input.sk-toggleable__control:checked~label.sk-toggleable__label {background-color: #d4ebff;}#sk-container-id-1 input.sk-hidden--visually {border: 0;clip: rect(1px 1px 1px 1px);clip: rect(1px, 1px, 1px, 1px);height: 1px;margin: -1px;overflow: hidden;padding: 0;position: absolute;width: 1px;}#sk-container-id-1 div.sk-estimator {font-family: monospace;background-color: #f0f8ff;border: 1px dotted black;border-radius: 0.25em;box-sizing: border-box;margin-bottom: 0.5em;}#sk-container-id-1 div.sk-estimator:hover {background-color: #d4ebff;}#sk-container-id-1 div.sk-parallel-item::after {content: \"\";width: 100%;border-bottom: 1px solid gray;flex-grow: 1;}#sk-container-id-1 div.sk-label:hover label.sk-toggleable__label {background-color: #d4ebff;}#sk-container-id-1 div.sk-serial::before {content: \"\";position: absolute;border-left: 1px solid gray;box-sizing: border-box;top: 0;bottom: 0;left: 50%;z-index: 0;}#sk-container-id-1 div.sk-serial {display: flex;flex-direction: column;align-items: center;background-color: white;padding-right: 0.2em;padding-left: 0.2em;position: relative;}#sk-container-id-1 div.sk-item {position: relative;z-index: 1;}#sk-container-id-1 div.sk-parallel {display: flex;align-items: stretch;justify-content: center;background-color: white;position: relative;}#sk-container-id-1 div.sk-item::before, #sk-container-id-1 div.sk-parallel-item::before {content: \"\";position: absolute;border-left: 1px solid gray;box-sizing: border-box;top: 0;bottom: 0;left: 50%;z-index: -1;}#sk-container-id-1 div.sk-parallel-item {display: flex;flex-direction: column;z-index: 1;position: relative;background-color: white;}#sk-container-id-1 div.sk-parallel-item:first-child::after {align-self: flex-end;width: 50%;}#sk-container-id-1 div.sk-parallel-item:last-child::after {align-self: flex-start;width: 50%;}#sk-container-id-1 div.sk-parallel-item:only-child::after {width: 0;}#sk-container-id-1 div.sk-dashed-wrapped {border: 1px dashed gray;margin: 0 0.4em 0.5em 0.4em;box-sizing: border-box;padding-bottom: 0.4em;background-color: white;}#sk-container-id-1 div.sk-label label {font-family: monospace;font-weight: bold;display: inline-block;line-height: 1.2em;}#sk-container-id-1 div.sk-label-container {text-align: center;}#sk-container-id-1 div.sk-container {/* jupyter's `normalize.less` sets `[hidden] { display: none; }` but bootstrap.min.css set `[hidden] { display: none !important; }` so we also need the `!important` here to be able to override the default hidden behavior on the sphinx rendered scikit-learn.org. See: https://github.com/scikit-learn/scikit-learn/issues/21755 */display: inline-block !important;position: relative;}#sk-container-id-1 div.sk-text-repr-fallback {display: none;}</style><div id=\"sk-container-id-1\" class=\"sk-top-container\"><div class=\"sk-text-repr-fallback\"><pre>LogisticRegression(random_state=42)</pre><b>In a Jupyter environment, please rerun this cell to show the HTML representation or trust the notebook. <br />On GitHub, the HTML representation is unable to render, please try loading this page with nbviewer.org.</b></div><div class=\"sk-container\" hidden><div class=\"sk-item\"><div class=\"sk-estimator sk-toggleable\"><input class=\"sk-toggleable__control sk-hidden--visually\" id=\"sk-estimator-id-1\" type=\"checkbox\" checked><label for=\"sk-estimator-id-1\" class=\"sk-toggleable__label sk-toggleable__label-arrow\">LogisticRegression</label><div class=\"sk-toggleable__content\"><pre>LogisticRegression(random_state=42)</pre></div></div></div></div></div>"
      ],
      "text/plain": [
       "LogisticRegression(random_state=42)"
      ]
     },
     "execution_count": 65,
     "metadata": {},
     "output_type": "execute_result"
    }
   ],
   "source": [
    "logreg = LogisticRegression(random_state=42)\n",
    "logreg.fit(X_train_lr, y_train_lr)"
   ]
  },
  {
   "cell_type": "code",
   "execution_count": 66,
   "id": "6c365d48",
   "metadata": {},
   "outputs": [],
   "source": [
    "classification_decision2 = (classification_report(y_test_lr, logreg.predict(X_test_lr)))"
   ]
  },
  {
   "cell_type": "code",
   "execution_count": 67,
   "id": "c92a016f",
   "metadata": {},
   "outputs": [
    {
     "name": "stdout",
     "output_type": "stream",
     "text": [
      "              precision    recall  f1-score   support\n",
      "\n",
      "           0       1.00      1.00      1.00       350\n",
      "           1       1.00      1.00      1.00       265\n",
      "\n",
      "    accuracy                           1.00       615\n",
      "   macro avg       1.00      1.00      1.00       615\n",
      "weighted avg       1.00      1.00      1.00       615\n",
      "\n"
     ]
    }
   ],
   "source": [
    "print(classification_decision2)"
   ]
  },
  {
   "cell_type": "code",
   "execution_count": 69,
   "id": "00afb4c2",
   "metadata": {},
   "outputs": [
    {
     "data": {
      "image/png": "[encoded data removed]",
      "text/plain": [
       "<Figure size 640x480 with 2 Axes>"
      ]
     },
     "metadata": {},
     "output_type": "display_data"
    }
   ],
   "source": [
    "from sklearn.metrics import confusion_matrix, ConfusionMatrixDisplay\n",
    "import matplotlib.pyplot as plt\n",
    "\n",
    "# Assuming you have already trained and evaluated your model, and have the predictions and ground truth labels\n",
    "predictions = logreg.predict(X_test_lr)\n",
    "cm = confusion_matrix(y_test_lr, predictions)\n",
    "\n",
    "# Create a ConfusionMatrixDisplay object\n",
    "disp = ConfusionMatrixDisplay(confusion_matrix=cm)\n",
    "\n",
    "# Plot the confusion matrix\n",
    "disp.plot(cmap=plt.cm.Greens)\n",
    "\n",
    "# Add labels, title, etc.\n",
    "plt.title('Confusion Matrix')\n",
    "plt.xlabel('Predicted label')\n",
    "plt.ylabel('True label')\n",
    "plt.show()\n"
   ]
  },
  {
   "cell_type": "markdown",
   "id": "1a909587",
   "metadata": {},
   "source": [
    "#### Conclusion\n",
    "\n",
    "Logistic Regression conclude a higher overall value than **Random Forest**, from precision, recall, and F1 score for positive and negative reviews. \n",
    "\n",
    "Precision value equal to **100%** for **0**, means that all negative reviews are classified as negative reviews and none of the negative reviews are classified incorrectly. While precision value for positive reviews equal to **0.99**, it means that **99%** of positive reviews are classified as positive reviews and **1%** of the positive reviews are classified incorrectly.\n",
    "\n",
    "Recall value or True Positive Rate (TPR), predicted how much a machine learning model correctly identifies all relevant cases withing the dataset. In this case, our model able to predicted that **99%** from the dataset are **True Positive** for negative reviews, and **100%** from the dataset are **True Positive** for positive reviews.\n",
    "\n",
    "F1-score value measures how many times the model made a correct prediction accurately. Our logistic regression model able to predict **100%** correctly for negative reviews and **99%** correctly for positive reviews."
   ]
  }
 ],
 "metadata": {
  "kernelspec": {
   "display_name": "Python 3 (ipykernel)",
   "language": "python",
   "name": "python3"
  },
  "language_info": {
   "codemirror_mode": {
    "name": "ipython",
    "version": 3
   },
   "file_extension": ".py",
   "mimetype": "text/x-python",
   "name": "python",
   "nbconvert_exporter": "python",
   "pygments_lexer": "ipython3",
   "version": "3.11.4"
  }
 },
 "nbformat": 4,
 "nbformat_minor": 5
}
